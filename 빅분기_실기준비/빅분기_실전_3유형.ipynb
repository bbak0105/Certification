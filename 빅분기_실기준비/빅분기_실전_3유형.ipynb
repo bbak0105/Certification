{
  "nbformat": 4,
  "nbformat_minor": 0,
  "metadata": {
    "colab": {
      "provenance": []
    },
    "kernelspec": {
      "name": "python3",
      "display_name": "Python 3"
    },
    "language_info": {
      "name": "python"
    }
  },
  "cells": [
    {
      "cell_type": "markdown",
      "source": [
        "## 1. 모집단 1개"
      ],
      "metadata": {
        "id": "XBnJPJ38eKH7"
      }
    },
    {
      "cell_type": "code",
      "execution_count": null,
      "metadata": {
        "id": "xZAD_likdd0A",
        "colab": {
          "base_uri": "https://localhost:8080/",
          "height": 206
        },
        "outputId": "12d883d5-257e-4ff2-e942-12617a45efa8"
      },
      "outputs": [
        {
          "output_type": "execute_result",
          "data": {
            "text/plain": [
              "                 car   mpg  cyl   disp   hp  drat     wt   qsec  vs  am  gear  \\\n",
              "0          Mazda RX4  21.0    6  160.0  110  3.90  2.620  16.46   0   1     4   \n",
              "1      Mazda RX4 Wag  21.0    6  160.0  110  3.90  2.875  17.02   0   1     4   \n",
              "2         Datsun 710  22.8    4  108.0   93  3.85  2.320  18.61   1   1     4   \n",
              "3     Hornet 4 Drive  21.4    6  258.0  110  3.08  3.215  19.44   1   0     3   \n",
              "4  Hornet Sportabout  18.7    8  360.0  175  3.15  3.440  17.02   0   0     3   \n",
              "\n",
              "   carb  \n",
              "0     4  \n",
              "1     4  \n",
              "2     1  \n",
              "3     1  \n",
              "4     2  "
            ],
            "text/html": [
              "\n",
              "  <div id=\"df-5cf03072-342f-48f4-ae99-4869d05eca65\" class=\"colab-df-container\">\n",
              "    <div>\n",
              "<style scoped>\n",
              "    .dataframe tbody tr th:only-of-type {\n",
              "        vertical-align: middle;\n",
              "    }\n",
              "\n",
              "    .dataframe tbody tr th {\n",
              "        vertical-align: top;\n",
              "    }\n",
              "\n",
              "    .dataframe thead th {\n",
              "        text-align: right;\n",
              "    }\n",
              "</style>\n",
              "<table border=\"1\" class=\"dataframe\">\n",
              "  <thead>\n",
              "    <tr style=\"text-align: right;\">\n",
              "      <th></th>\n",
              "      <th>car</th>\n",
              "      <th>mpg</th>\n",
              "      <th>cyl</th>\n",
              "      <th>disp</th>\n",
              "      <th>hp</th>\n",
              "      <th>drat</th>\n",
              "      <th>wt</th>\n",
              "      <th>qsec</th>\n",
              "      <th>vs</th>\n",
              "      <th>am</th>\n",
              "      <th>gear</th>\n",
              "      <th>carb</th>\n",
              "    </tr>\n",
              "  </thead>\n",
              "  <tbody>\n",
              "    <tr>\n",
              "      <th>0</th>\n",
              "      <td>Mazda RX4</td>\n",
              "      <td>21.0</td>\n",
              "      <td>6</td>\n",
              "      <td>160.0</td>\n",
              "      <td>110</td>\n",
              "      <td>3.90</td>\n",
              "      <td>2.620</td>\n",
              "      <td>16.46</td>\n",
              "      <td>0</td>\n",
              "      <td>1</td>\n",
              "      <td>4</td>\n",
              "      <td>4</td>\n",
              "    </tr>\n",
              "    <tr>\n",
              "      <th>1</th>\n",
              "      <td>Mazda RX4 Wag</td>\n",
              "      <td>21.0</td>\n",
              "      <td>6</td>\n",
              "      <td>160.0</td>\n",
              "      <td>110</td>\n",
              "      <td>3.90</td>\n",
              "      <td>2.875</td>\n",
              "      <td>17.02</td>\n",
              "      <td>0</td>\n",
              "      <td>1</td>\n",
              "      <td>4</td>\n",
              "      <td>4</td>\n",
              "    </tr>\n",
              "    <tr>\n",
              "      <th>2</th>\n",
              "      <td>Datsun 710</td>\n",
              "      <td>22.8</td>\n",
              "      <td>4</td>\n",
              "      <td>108.0</td>\n",
              "      <td>93</td>\n",
              "      <td>3.85</td>\n",
              "      <td>2.320</td>\n",
              "      <td>18.61</td>\n",
              "      <td>1</td>\n",
              "      <td>1</td>\n",
              "      <td>4</td>\n",
              "      <td>1</td>\n",
              "    </tr>\n",
              "    <tr>\n",
              "      <th>3</th>\n",
              "      <td>Hornet 4 Drive</td>\n",
              "      <td>21.4</td>\n",
              "      <td>6</td>\n",
              "      <td>258.0</td>\n",
              "      <td>110</td>\n",
              "      <td>3.08</td>\n",
              "      <td>3.215</td>\n",
              "      <td>19.44</td>\n",
              "      <td>1</td>\n",
              "      <td>0</td>\n",
              "      <td>3</td>\n",
              "      <td>1</td>\n",
              "    </tr>\n",
              "    <tr>\n",
              "      <th>4</th>\n",
              "      <td>Hornet Sportabout</td>\n",
              "      <td>18.7</td>\n",
              "      <td>8</td>\n",
              "      <td>360.0</td>\n",
              "      <td>175</td>\n",
              "      <td>3.15</td>\n",
              "      <td>3.440</td>\n",
              "      <td>17.02</td>\n",
              "      <td>0</td>\n",
              "      <td>0</td>\n",
              "      <td>3</td>\n",
              "      <td>2</td>\n",
              "    </tr>\n",
              "  </tbody>\n",
              "</table>\n",
              "</div>\n",
              "    <div class=\"colab-df-buttons\">\n",
              "\n",
              "  <div class=\"colab-df-container\">\n",
              "    <button class=\"colab-df-convert\" onclick=\"convertToInteractive('df-5cf03072-342f-48f4-ae99-4869d05eca65')\"\n",
              "            title=\"Convert this dataframe to an interactive table.\"\n",
              "            style=\"display:none;\">\n",
              "\n",
              "  <svg xmlns=\"http://www.w3.org/2000/svg\" height=\"24px\" viewBox=\"0 -960 960 960\">\n",
              "    <path d=\"M120-120v-720h720v720H120Zm60-500h600v-160H180v160Zm220 220h160v-160H400v160Zm0 220h160v-160H400v160ZM180-400h160v-160H180v160Zm440 0h160v-160H620v160ZM180-180h160v-160H180v160Zm440 0h160v-160H620v160Z\"/>\n",
              "  </svg>\n",
              "    </button>\n",
              "\n",
              "  <style>\n",
              "    .colab-df-container {\n",
              "      display:flex;\n",
              "      gap: 12px;\n",
              "    }\n",
              "\n",
              "    .colab-df-convert {\n",
              "      background-color: #E8F0FE;\n",
              "      border: none;\n",
              "      border-radius: 50%;\n",
              "      cursor: pointer;\n",
              "      display: none;\n",
              "      fill: #1967D2;\n",
              "      height: 32px;\n",
              "      padding: 0 0 0 0;\n",
              "      width: 32px;\n",
              "    }\n",
              "\n",
              "    .colab-df-convert:hover {\n",
              "      background-color: #E2EBFA;\n",
              "      box-shadow: 0px 1px 2px rgba(60, 64, 67, 0.3), 0px 1px 3px 1px rgba(60, 64, 67, 0.15);\n",
              "      fill: #174EA6;\n",
              "    }\n",
              "\n",
              "    .colab-df-buttons div {\n",
              "      margin-bottom: 4px;\n",
              "    }\n",
              "\n",
              "    [theme=dark] .colab-df-convert {\n",
              "      background-color: #3B4455;\n",
              "      fill: #D2E3FC;\n",
              "    }\n",
              "\n",
              "    [theme=dark] .colab-df-convert:hover {\n",
              "      background-color: #434B5C;\n",
              "      box-shadow: 0px 1px 3px 1px rgba(0, 0, 0, 0.15);\n",
              "      filter: drop-shadow(0px 1px 2px rgba(0, 0, 0, 0.3));\n",
              "      fill: #FFFFFF;\n",
              "    }\n",
              "  </style>\n",
              "\n",
              "    <script>\n",
              "      const buttonEl =\n",
              "        document.querySelector('#df-5cf03072-342f-48f4-ae99-4869d05eca65 button.colab-df-convert');\n",
              "      buttonEl.style.display =\n",
              "        google.colab.kernel.accessAllowed ? 'block' : 'none';\n",
              "\n",
              "      async function convertToInteractive(key) {\n",
              "        const element = document.querySelector('#df-5cf03072-342f-48f4-ae99-4869d05eca65');\n",
              "        const dataTable =\n",
              "          await google.colab.kernel.invokeFunction('convertToInteractive',\n",
              "                                                    [key], {});\n",
              "        if (!dataTable) return;\n",
              "\n",
              "        const docLinkHtml = 'Like what you see? Visit the ' +\n",
              "          '<a target=\"_blank\" href=https://colab.research.google.com/notebooks/data_table.ipynb>data table notebook</a>'\n",
              "          + ' to learn more about interactive tables.';\n",
              "        element.innerHTML = '';\n",
              "        dataTable['output_type'] = 'display_data';\n",
              "        await google.colab.output.renderOutput(dataTable, element);\n",
              "        const docLink = document.createElement('div');\n",
              "        docLink.innerHTML = docLinkHtml;\n",
              "        element.appendChild(docLink);\n",
              "      }\n",
              "    </script>\n",
              "  </div>\n",
              "\n",
              "\n",
              "<div id=\"df-fc2175e3-d024-462d-b356-72ab46d5701e\">\n",
              "  <button class=\"colab-df-quickchart\" onclick=\"quickchart('df-fc2175e3-d024-462d-b356-72ab46d5701e')\"\n",
              "            title=\"Suggest charts\"\n",
              "            style=\"display:none;\">\n",
              "\n",
              "<svg xmlns=\"http://www.w3.org/2000/svg\" height=\"24px\"viewBox=\"0 0 24 24\"\n",
              "     width=\"24px\">\n",
              "    <g>\n",
              "        <path d=\"M19 3H5c-1.1 0-2 .9-2 2v14c0 1.1.9 2 2 2h14c1.1 0 2-.9 2-2V5c0-1.1-.9-2-2-2zM9 17H7v-7h2v7zm4 0h-2V7h2v10zm4 0h-2v-4h2v4z\"/>\n",
              "    </g>\n",
              "</svg>\n",
              "  </button>\n",
              "\n",
              "<style>\n",
              "  .colab-df-quickchart {\n",
              "      --bg-color: #E8F0FE;\n",
              "      --fill-color: #1967D2;\n",
              "      --hover-bg-color: #E2EBFA;\n",
              "      --hover-fill-color: #174EA6;\n",
              "      --disabled-fill-color: #AAA;\n",
              "      --disabled-bg-color: #DDD;\n",
              "  }\n",
              "\n",
              "  [theme=dark] .colab-df-quickchart {\n",
              "      --bg-color: #3B4455;\n",
              "      --fill-color: #D2E3FC;\n",
              "      --hover-bg-color: #434B5C;\n",
              "      --hover-fill-color: #FFFFFF;\n",
              "      --disabled-bg-color: #3B4455;\n",
              "      --disabled-fill-color: #666;\n",
              "  }\n",
              "\n",
              "  .colab-df-quickchart {\n",
              "    background-color: var(--bg-color);\n",
              "    border: none;\n",
              "    border-radius: 50%;\n",
              "    cursor: pointer;\n",
              "    display: none;\n",
              "    fill: var(--fill-color);\n",
              "    height: 32px;\n",
              "    padding: 0;\n",
              "    width: 32px;\n",
              "  }\n",
              "\n",
              "  .colab-df-quickchart:hover {\n",
              "    background-color: var(--hover-bg-color);\n",
              "    box-shadow: 0 1px 2px rgba(60, 64, 67, 0.3), 0 1px 3px 1px rgba(60, 64, 67, 0.15);\n",
              "    fill: var(--button-hover-fill-color);\n",
              "  }\n",
              "\n",
              "  .colab-df-quickchart-complete:disabled,\n",
              "  .colab-df-quickchart-complete:disabled:hover {\n",
              "    background-color: var(--disabled-bg-color);\n",
              "    fill: var(--disabled-fill-color);\n",
              "    box-shadow: none;\n",
              "  }\n",
              "\n",
              "  .colab-df-spinner {\n",
              "    border: 2px solid var(--fill-color);\n",
              "    border-color: transparent;\n",
              "    border-bottom-color: var(--fill-color);\n",
              "    animation:\n",
              "      spin 1s steps(1) infinite;\n",
              "  }\n",
              "\n",
              "  @keyframes spin {\n",
              "    0% {\n",
              "      border-color: transparent;\n",
              "      border-bottom-color: var(--fill-color);\n",
              "      border-left-color: var(--fill-color);\n",
              "    }\n",
              "    20% {\n",
              "      border-color: transparent;\n",
              "      border-left-color: var(--fill-color);\n",
              "      border-top-color: var(--fill-color);\n",
              "    }\n",
              "    30% {\n",
              "      border-color: transparent;\n",
              "      border-left-color: var(--fill-color);\n",
              "      border-top-color: var(--fill-color);\n",
              "      border-right-color: var(--fill-color);\n",
              "    }\n",
              "    40% {\n",
              "      border-color: transparent;\n",
              "      border-right-color: var(--fill-color);\n",
              "      border-top-color: var(--fill-color);\n",
              "    }\n",
              "    60% {\n",
              "      border-color: transparent;\n",
              "      border-right-color: var(--fill-color);\n",
              "    }\n",
              "    80% {\n",
              "      border-color: transparent;\n",
              "      border-right-color: var(--fill-color);\n",
              "      border-bottom-color: var(--fill-color);\n",
              "    }\n",
              "    90% {\n",
              "      border-color: transparent;\n",
              "      border-bottom-color: var(--fill-color);\n",
              "    }\n",
              "  }\n",
              "</style>\n",
              "\n",
              "  <script>\n",
              "    async function quickchart(key) {\n",
              "      const quickchartButtonEl =\n",
              "        document.querySelector('#' + key + ' button');\n",
              "      quickchartButtonEl.disabled = true;  // To prevent multiple clicks.\n",
              "      quickchartButtonEl.classList.add('colab-df-spinner');\n",
              "      try {\n",
              "        const charts = await google.colab.kernel.invokeFunction(\n",
              "            'suggestCharts', [key], {});\n",
              "      } catch (error) {\n",
              "        console.error('Error during call to suggestCharts:', error);\n",
              "      }\n",
              "      quickchartButtonEl.classList.remove('colab-df-spinner');\n",
              "      quickchartButtonEl.classList.add('colab-df-quickchart-complete');\n",
              "    }\n",
              "    (() => {\n",
              "      let quickchartButtonEl =\n",
              "        document.querySelector('#df-fc2175e3-d024-462d-b356-72ab46d5701e button');\n",
              "      quickchartButtonEl.style.display =\n",
              "        google.colab.kernel.accessAllowed ? 'block' : 'none';\n",
              "    })();\n",
              "  </script>\n",
              "</div>\n",
              "    </div>\n",
              "  </div>\n"
            ]
          },
          "metadata": {},
          "execution_count": 2
        }
      ],
      "source": [
        "import pandas as pd\n",
        "import numpy as np\n",
        "\n",
        "df = pd.read_csv(\"mtcars.csv\")\n",
        "df.head()"
      ]
    },
    {
      "cell_type": "code",
      "source": [
        "!pip install scipy"
      ],
      "metadata": {
        "colab": {
          "base_uri": "https://localhost:8080/"
        },
        "id": "gRcf16o0IK5k",
        "outputId": "f1b0ad9f-f325-40d0-949a-1cd9666541bf"
      },
      "execution_count": null,
      "outputs": [
        {
          "output_type": "stream",
          "name": "stdout",
          "text": [
            "Requirement already satisfied: scipy in /usr/local/lib/python3.10/dist-packages (1.11.4)\n",
            "Requirement already satisfied: numpy<1.28.0,>=1.21.6 in /usr/local/lib/python3.10/dist-packages (from scipy) (1.23.5)\n"
          ]
        }
      ]
    },
    {
      "cell_type": "markdown",
      "source": [
        "#### 1. mtcars 데이터셋의 mpg열 데이터의 평균이 20과 같다고 할 수 있는지 검정하시오. (유의수준 5%)"
      ],
      "metadata": {
        "id": "PT2UBt8ids7w"
      }
    },
    {
      "cell_type": "code",
      "source": [
        "# 가설설정 H0: 평균 20과 같다, H1: 평균 20과 같지 않다.\n",
        "# 유의수준: 0.05\n",
        "# ttest_1samp\n",
        "import scipy.stats as stas\n",
        "\n",
        "# 정규성 검정(H0: 정규성 O, H1: 정규성이 X)\n",
        "normal_result = stas.shapiro(df['mpg'])\n",
        "\n",
        "# p-value: 0.122\n",
        "# p-value가 유의수준 0.05보다 크므로 귀무가설 채택(정규성O)\n",
        "\n",
        "# help(stas)\n",
        "result = stas.ttest_1samp(df['mpg'], popmean=20, alternative='two-sided')\n",
        "\n",
        "# p-value = 0.93\n",
        "# p-value가 0.05보다 크므로 귀무가설 채택. 평균 20과 같다고 할 수 있음\n",
        "# 답: 평균 20과 같다.\n",
        "\n",
        "# *** 정규성을 따르지 않는 경우\n",
        "# wilk-p-value = 0.78\n",
        "wilk_result = stas.wilcoxon(df['mpg']-20,alternative='two-sided')\n",
        "wilk_result"
      ],
      "metadata": {
        "id": "Yiuklr8qd0sG",
        "colab": {
          "base_uri": "https://localhost:8080/"
        },
        "outputId": "bbdf08b2-ff1f-4963-a6c9-35350acc885d"
      },
      "execution_count": null,
      "outputs": [
        {
          "output_type": "execute_result",
          "data": {
            "text/plain": [
              "WilcoxonResult(statistic=249.0, pvalue=0.78912592260167)"
            ]
          },
          "metadata": {},
          "execution_count": 18
        }
      ]
    },
    {
      "cell_type": "markdown",
      "source": [
        "#### 2. mtcars 데이터셋의 mpg열 데이터 평균이 17보다 크다고 할 수 있는지 검정하시오. (유의수준 5%)"
      ],
      "metadata": {
        "id": "_CeJ5RNkd74g"
      }
    },
    {
      "cell_type": "code",
      "source": [
        "# 가설설정 H0: 평균 17보다 작거나 같다, H1: 평균 17보다 크다\n",
        "# 유의수준: 0.05\n",
        "# ttest_1samp\n",
        "import scipy.stats as stas\n",
        "\n",
        "# 정규성 검정(H0: 정규성 O, H1: 정규성이 X)\n",
        "normal_result = stas.shapiro(df['mpg'])\n",
        "\n",
        "# 정규성 p-value: 0.122\n",
        "# p-value가 유의수준 0.05보다 크므로 귀무가설 채택(정규성O)\n",
        "\n",
        "# help(stas)\n",
        "result = stas.ttest_1samp(df['mpg'], popmean=17, alternative='greater')\n",
        "result\n",
        "\n",
        "# ttest p-value: 0.003394155007833913\n",
        "# p-value가 유의수준 0.05보다 작으므로 귀무가설 기각\n",
        "\n",
        "# 답: 평균 17보다 크다.\n",
        "\n",
        "# *** 정규성을 따르지 않는 경우\n",
        "wilk_result = stas.wilcoxon(df['mpg']-17, alternative='greater')\n",
        "wilk_result # 0.00661516422405839"
      ],
      "metadata": {
        "id": "PbnxoHPyeBkA",
        "colab": {
          "base_uri": "https://localhost:8080/"
        },
        "outputId": "17ef49da-b21f-48e6-eccc-5c7223a492ae"
      },
      "execution_count": null,
      "outputs": [
        {
          "output_type": "execute_result",
          "data": {
            "text/plain": [
              "WilcoxonResult(statistic=395.5, pvalue=0.00661516422405839)"
            ]
          },
          "metadata": {},
          "execution_count": 21
        }
      ]
    },
    {
      "cell_type": "markdown",
      "source": [
        "#### 3. mtcars 데이터셋의 mpg열 데이터의 평균이 17보다 작다고 할 수 있는지 검정하시오. (유의수준 5%)"
      ],
      "metadata": {
        "id": "Gosr_S9OeC1Q"
      }
    },
    {
      "cell_type": "code",
      "source": [
        "# 가설설정 H0: 평균 17보다 크거나 같다, H1: 평균 17보다 작다\n",
        "# 유의수준: 0.05\n",
        "# ttest_1samp\n",
        "import scipy.stats as stas\n",
        "\n",
        "# 정규성 검정(H0: 정규성 O, H1: 정규성이 X)\n",
        "normal_result = stas.shapiro(df['mpg'])\n",
        "\n",
        "# 정규성 p-value: 0.122\n",
        "# p-value가 유의수준 0.05보다 크므로 귀무가설 채택(정규성O)\n",
        "\n",
        "# help(stas)\n",
        "result = stas.ttest_1samp(df['mpg'], popmean=17, alternative='less')\n",
        "result\n",
        "\n",
        "# ttest p-value: 0.9966058449921661\n",
        "# p-value가 유의수준 0.05보다 크므로 귀무가설 채택\n",
        "\n",
        "# 답: 평균 17보다 크거나 같다"
      ],
      "metadata": {
        "id": "hcrMJGsDeHoB",
        "colab": {
          "base_uri": "https://localhost:8080/"
        },
        "outputId": "e08224ed-6e4b-45a5-9b97-0bafe9121e40"
      },
      "execution_count": null,
      "outputs": [
        {
          "output_type": "execute_result",
          "data": {
            "text/plain": [
              "TtestResult(statistic=2.900840527201366, pvalue=0.9966058449921661, df=31)"
            ]
          },
          "metadata": {},
          "execution_count": 22
        }
      ]
    },
    {
      "cell_type": "markdown",
      "source": [
        "\n",
        "\n",
        "---\n",
        "\n"
      ],
      "metadata": {
        "id": "W5-LEk9heR_B"
      }
    },
    {
      "cell_type": "markdown",
      "source": [
        "## 2. 모집단 2개"
      ],
      "metadata": {
        "id": "B3pHs3MpeTDP"
      }
    },
    {
      "cell_type": "markdown",
      "source": [
        "#### 2-1. 쌍체 t검정 (paired-t-test) <br/> 2-1-1. 다음은 혈압약을 먹은 전, 후의 혈압데이터이다. <br/> 혈압약을 먹기 전, 후의 차이가 있는지 쌍체 t 검정을 실시하시오. (유의수준 5%)"
      ],
      "metadata": {
        "id": "Bpo0KeUmeXx3"
      }
    },
    {
      "cell_type": "code",
      "source": [
        "import pandas as pd\n",
        "import numpy as np\n",
        "\n",
        "df = pd.DataFrame({\n",
        "    'before': [120, 135, 122, 124, 135, 122, 145, 160, 155, 142, 144, 135, 167],\n",
        "    'after':  [110, 132, 123, 119, 123, 115, 140, 162, 142, 138, 135, 142, 160]\n",
        "})\n",
        "\n",
        "import scipy.stats as stats\n",
        "# 가설) H0: 혈압약을 먹기 전 = 먹은 후 (차이가 X), H1: 차이가 O\n",
        "# 사용 라이브러리) 한 집단내의 2개 테스트 진행하므로 ttest_rel 진행\n",
        "# 유의수준) 0.05\n",
        "\n",
        "# 정규식 검증 (H0: 정규식을 따른다, H1: 따르지 않는다.)\n",
        "normal_result = stas.shapiro(df['after']-df['before'])\n",
        "# pvalue가 0.74 이므로 0.05보다 커서 귀무가설 채택: 정규성을 따른다.\n",
        "\n",
        "# after-before: 0.008560014166295203\n",
        "# before-after: 0.008560014166295203\n",
        "result = stas.ttest_rel(df['before'],df['after'], alternative='two-sided')\n",
        "print(result)\n",
        "# pvalue 0.008560014166295203 이므로 유의수준보다 작다. 귀무가설 기각.\n",
        "# 답) 약을 먹기전과 후는 차이가 있다.\n",
        "\n",
        "# *** 정규성을 만족하지 못할 경우 wilcoxon p-value 0.013427734375\n",
        "wilc_result = stas.wilcoxon(df['after']-df['before'], alternative='two-sided')"
      ],
      "metadata": {
        "id": "8dvX1tD7esus",
        "colab": {
          "base_uri": "https://localhost:8080/"
        },
        "outputId": "aed18fd9-c7f1-41d6-a467-32a3584e0cd4"
      },
      "execution_count": null,
      "outputs": [
        {
          "output_type": "stream",
          "name": "stdout",
          "text": [
            "TtestResult(statistic=3.13822957230424, pvalue=0.008560014166295203, df=12)\n"
          ]
        }
      ]
    },
    {
      "cell_type": "markdown",
      "source": [
        "#### 2-1. 쌍체 t검정 (paired-t-test) <br/> 2-1-2. 다음은 혈압약을 먹은 전, 후의 혈압데이터이다. <br/> 혈압약을 먹은 후 혈압이 감소했는지 확인하기 위해 쌍체 t 검정을 실시하시오. (유의수준 5%)"
      ],
      "metadata": {
        "id": "fPoXt4qofKoM"
      }
    },
    {
      "cell_type": "code",
      "source": [
        "import pandas as pd\n",
        "import numpy as np\n",
        "\n",
        "df = pd.DataFrame({\n",
        "    'before': [120, 135, 122, 124, 135, 122, 145, 160, 155, 142, 144, 135, 167],\n",
        "    'after':  [110, 132, 123, 119, 123, 115, 140, 162, 142, 138, 135, 142, 160]\n",
        "})\n",
        "print(df.head(3))"
      ],
      "metadata": {
        "id": "tWurQfHofZx6"
      },
      "execution_count": null,
      "outputs": []
    },
    {
      "cell_type": "markdown",
      "source": [
        "#### 2-2. 독립표본 t검정 <br/> 2-2-1. A그룹과 B그룹 인원의 혈압 데이터이다. <br/>두 그룹의 혈압평균이 다르다고 할 수 있는지 독립표본 t검정을 실시하시오.(유의수준 5%)"
      ],
      "metadata": {
        "id": "yy5xCAS1feoU"
      }
    },
    {
      "cell_type": "code",
      "source": [
        "import pandas as pd\n",
        "import numpy as np\n",
        "\n",
        "df = pd.DataFrame({\n",
        "    'A': [120, 135, 122, 124, 135, 122, 145, 160, 155, 142, 144, 135, 167],\n",
        "    'B': [110, 132, 123, 119, 123, 115, 140, 162, 142, 138, 135, 142, 160]\n",
        "})\n",
        "print(df.head(3))"
      ],
      "metadata": {
        "id": "RBw-2a1Mf2HZ"
      },
      "execution_count": null,
      "outputs": []
    },
    {
      "cell_type": "markdown",
      "source": [
        "#### 2-2. 독립표본 t검정 <br/> 2-2-2. A그룹과 B그룹 인원의 혈압 데이터이다. <br/>A그룹의 혈압 평균이 B그룹보다 크다고 할 수 있는지 독립표본 t검정을 실시하시오."
      ],
      "metadata": {
        "id": "-9UKw1RhgBOl"
      }
    },
    {
      "cell_type": "code",
      "source": [
        "import pandas as pd\n",
        "import numpy as np\n",
        "\n",
        "df = pd.DataFrame({\n",
        "    'A': [120, 135, 122, 124, 135, 122, 145, 160, 155, 142, 144, 135, 167],\n",
        "    'B': [110, 132, 123, 119, 123, 115, 140, 162, 142, 138, 135, 142, 160]\n",
        "})\n",
        "\n",
        "# 가설) H0: 혈압평균 A <= B, H1: A > B\n",
        "# 사용) 두 집단내의 t검정: ttest_ind\n",
        "# 검증) 정규식 - 등분산성 - t검정\n",
        "\n",
        "import scipy.stats as stats\n",
        "# help(stats.ttest_ind)\n",
        "\n",
        "# (1) 정규성 (성립)\n",
        "# - A: 0.35585272312164307\n",
        "# - B: 0.5955665707588196\n",
        "norm_result_A = stats.shapiro(df['A'])\n",
        "norm_result_B = stats.shapiro(df['B'])\n",
        "\n",
        "# (2) 등분산성 (성립)\n",
        "equal_result = stats.bartlett(df['A'], df['B'])\n",
        "equal_result\n",
        "\n",
        "# (3) t검정\n",
        "result = stats.ttest_ind(df['A'],df['B'], equal_var=True, alternative='greater')\n",
        "result\n",
        "\n",
        "# p-value 0.2103743106970833, 0.05보다 크므로 귀무가설 채택\n",
        "# 답: A <= B : A그룹의 평균이 B보다 작거나 같다. (크다고 할 수 없다.)\n",
        "\n",
        "# *** 정규성 만족 못할경우) ranksums\n",
        "rank_result = stats.ranksums(df['A'], df['B'], alternative='greater')\n",
        "rank_result"
      ],
      "metadata": {
        "id": "l8XwTdWjgRLo",
        "colab": {
          "base_uri": "https://localhost:8080/"
        },
        "outputId": "5f8287f8-481e-46b3-a4ca-506a96c5ecb2"
      },
      "execution_count": null,
      "outputs": [
        {
          "output_type": "execute_result",
          "data": {
            "text/plain": [
              "RanksumsResult(statistic=0.8461538461538461, pvalue=0.19873346271129638)"
            ]
          },
          "metadata": {},
          "execution_count": 53
        }
      ]
    },
    {
      "cell_type": "markdown",
      "source": [
        "\n",
        "\n",
        "---\n",
        "\n"
      ],
      "metadata": {
        "id": "skgFprOxgXnW"
      }
    },
    {
      "cell_type": "markdown",
      "source": [
        "## 3. 모집단 3개 이상"
      ],
      "metadata": {
        "id": "zLIwSQOGgYZ4"
      }
    },
    {
      "cell_type": "markdown",
      "source": [
        "### 3-1. 다음은 A, B, C 그룹 인원 성적 데이터이다. <br/> 세 그룹의 성적 평균이 같다고 할 수 있는지 ANOVA 분석을 실시하시오. (유의수준 5%)"
      ],
      "metadata": {
        "id": "FDfzJjJ5gyCc"
      }
    },
    {
      "cell_type": "code",
      "source": [
        "import pandas as pd\n",
        "import numpy as np\n",
        "\n",
        "df = pd.DataFrame({\n",
        "    'A': [120, 135, 122, 124, 135, 122, 145, 160, 155, 142, 144, 135, 167],\n",
        "    'B': [110, 132, 123, 119, 123, 115, 140, 162, 142, 138, 135, 142, 160],\n",
        "    'C': [130, 120, 115, 122, 133, 144, 122, 120, 110, 134, 125, 122, 122]\n",
        "})\n",
        "\n",
        "import scipy.stats as stats\n",
        "# help(stats.f_oneway)\n",
        "# 가설) H0: A=B=C, H1: 적어도 하나는 같지 않다.\n",
        "# 사용) anova: f_oneway\n",
        "# 정규성 - 등분산성 - anova\n",
        "\n",
        "# 정규성 분석\n",
        "norm_result_A = stats.shapiro(df['A']) # 0.35585272312164307\n",
        "norm_result_B = stats.shapiro(df['B']) # 0.5955665707588196\n",
        "norm_result_C = stats.shapiro(df['C']) # 0.45265132188796997\n",
        "\n",
        "# 등분산성 분석 (p-value: 0.12110174433684852)\n",
        "equal_result = stats.bartlett(df['A'],df['B'],df['C'])\n",
        "\n",
        "# anova (p-value: 0.0346491232068625)\n",
        "result = stats.f_oneway(df['A'], df['B'], df['C'])\n",
        "\n",
        "# 유의수준보다 작으므로 귀무가설 기각\n",
        "# 답) 같다고 할 수 없디.\n",
        "\n",
        "# *** 정규성 맞지 않을 경우 : 크루스칼 : 0.03179333314266727\n",
        "result_kru = stats.kruskal(df['A'], df['B'], df['C'])"
      ],
      "metadata": {
        "id": "6SIQfAWggdWi"
      },
      "execution_count": null,
      "outputs": []
    },
    {
      "cell_type": "markdown",
      "source": [
        "### 3-2. 데이터 형태가 다를 경우"
      ],
      "metadata": {
        "id": "8W7qMO6Ng_Du"
      }
    },
    {
      "cell_type": "code",
      "source": [
        "import pandas as pd\n",
        "import numpy as np\n",
        "\n",
        "df = pd.DataFrame({\n",
        "    'A': [120, 135, 122, 124, 135, 122, 145, 160, 155, 142, 144, 135, 167],\n",
        "    'B': [110, 132, 123, 119, 123, 115, 140, 162, 142, 138, 135, 142, 160],\n",
        "    'C': [130, 120, 115, 122, 133, 144, 122, 120, 110, 134, 125, 122, 122]\n",
        "})\n",
        "print(df.head())\n",
        "\n",
        "df2 = pd.DataFrame({\n",
        "    '항목': ['A', 'A', 'A', 'A', 'A', 'A', 'A', 'A', 'A', 'A', 'A', 'A', 'A',\n",
        "            'B', 'B', 'B', 'B', 'B', 'B', 'B', 'B', 'B', 'B', 'B', 'B', 'B',\n",
        "            'C', 'C', 'C', 'C', 'C', 'C', 'C', 'C', 'C', 'C', 'C', 'C', 'C'],\n",
        "    'value': [120, 135, 122, 124, 135, 122, 145, 160, 155, 142, 144, 135, 167,\n",
        "              110, 132, 123, 119, 123, 115, 140, 162, 142, 138, 135, 142, 160,\n",
        "              130, 120, 115, 122, 133, 144, 122, 120, 110, 134, 125, 122, 122]\n",
        "})\n",
        "print(df2.head(3))\n",
        "\n",
        "a = df2[df2['항목'] == 'A']['value']\n",
        "b = df2[df2['항목'] == 'B']['value']\n",
        "c = df2[df2['항목'] == 'C']['value']\n",
        "\n",
        "import scipy.stats as stats\n",
        "\n",
        "result_edit = stats.f_oneway(a, b, c)\n",
        "result_edit # 0.0346491232068625"
      ],
      "metadata": {
        "id": "iorpbhBjhC-x",
        "colab": {
          "base_uri": "https://localhost:8080/"
        },
        "outputId": "00aec1fd-5084-4370-b850-55d7df041907"
      },
      "execution_count": null,
      "outputs": [
        {
          "output_type": "stream",
          "name": "stdout",
          "text": [
            "     A    B    C\n",
            "0  120  110  130\n",
            "1  135  132  120\n",
            "2  122  123  115\n",
            "3  124  119  122\n",
            "4  135  123  133\n",
            "  항목  value\n",
            "0  A    120\n",
            "1  A    135\n",
            "2  A    122\n"
          ]
        },
        {
          "output_type": "execute_result",
          "data": {
            "text/plain": [
              "F_onewayResult(statistic=3.6970511827172867, pvalue=0.0346491232068625)"
            ]
          },
          "metadata": {},
          "execution_count": 79
        }
      ]
    },
    {
      "cell_type": "markdown",
      "source": [
        "\n",
        "\n",
        "---\n",
        "\n"
      ],
      "metadata": {
        "id": "BDqhclM8h0FG"
      }
    },
    {
      "cell_type": "markdown",
      "source": [
        "## 4. 카이제곱 검정"
      ],
      "metadata": {
        "id": "CTu7e6SVh1KH"
      }
    },
    {
      "cell_type": "markdown",
      "source": [
        "### 4-1. 적합성 <br/> 4-1-1. 랜덤박스에 상품 A, B, C, D가 들어있다. <br/>다음은 랜덤박스에서 100번 상품을 꺼냈을때의 상품 데이터라고 할때 <br/>상품이 동일한 비율로 들어있다고 할 수 있는지 검증해보시오."
      ],
      "metadata": {
        "id": "c51T1U1kiB37"
      }
    },
    {
      "cell_type": "code",
      "source": [
        "import pandas as pd\n",
        "import numpy as np\n",
        "\n",
        "row1 = [30, 20, 15, 35]\n",
        "df = pd.DataFrame([row1], columns=['A','B','C','D'])\n",
        "\n",
        "f_obs = row1\n",
        "f_exp = [25, 25, 25, 25]\n",
        "\n",
        "# 가설) H0: 동일한 비율이다, H1: 동일한 비율이 아니다\n",
        "# 사용) chisquare\n",
        "\n",
        "import scipy.stats as stats\n",
        "\n",
        "result = stats.chisquare(f_obs=f_obs, f_exp=f_exp)\n",
        "result\n",
        "\n",
        "# pvalue 0.01856613546304325 이므로 유의수준보다 작다\n",
        "# 답) 동일한 비율이 아니다."
      ],
      "metadata": {
        "id": "tPvqkqWDh6sA",
        "colab": {
          "base_uri": "https://localhost:8080/"
        },
        "outputId": "90cc3188-d892-416d-98c8-a71e8fe647ca"
      },
      "execution_count": null,
      "outputs": [
        {
          "output_type": "execute_result",
          "data": {
            "text/plain": [
              "Power_divergenceResult(statistic=10.0, pvalue=0.01856613546304325)"
            ]
          },
          "metadata": {},
          "execution_count": 80
        }
      ]
    },
    {
      "cell_type": "markdown",
      "source": [
        "### 4-1. 적합성 <br/> 4-1-2. 랜덤박스에 상품 A, B, C, D가 들어있다. <br/>다음은 랜덤박스에서 150번 상품을 꺼냈을 때의 상품 데이터라고 할 때, <br/>상품별로 A 30%, B 15%, C 55% 비율로 들어있다고 할 수 있는지 검정해보시오."
      ],
      "metadata": {
        "id": "SvNYZNACiX4s"
      }
    },
    {
      "cell_type": "code",
      "source": [
        "import pandas as pd\n",
        "import numpy as np\n",
        "\n",
        "row1 = [50, 25, 75]\n",
        "df = pd.DataFrame([row1], columns=['A','B','C'])\n",
        "\n",
        "# 가설) H0: A 30%, B 15%, C 55% 비율이다, H1: 그렇지 않다\n",
        "# 사용) chisquare\n",
        "\n",
        "a_exp = 150 * 0.3\n",
        "b_exp = 150 * 0.15\n",
        "c_exp = 150 * 0.55\n",
        "\n",
        "f_obs = row1\n",
        "f_exp = [a_exp, b_exp, c_exp]\n",
        "\n",
        "import scipy.stats as stats\n",
        "result = stats.chisquare(f_obs=f_obs, f_exp=f_exp)\n",
        "\n",
        "# p-value는 0.46880153914023537이므로 유의수준보다 커서 귀무가설 채택\n",
        "# 답) 그 비율이 맞다"
      ],
      "metadata": {
        "id": "sGq6k9KziiXh",
        "colab": {
          "base_uri": "https://localhost:8080/"
        },
        "outputId": "8286872d-572a-4fc4-cd43-d2cd2605e5a3"
      },
      "execution_count": null,
      "outputs": [
        {
          "output_type": "execute_result",
          "data": {
            "text/plain": [
              "Power_divergenceResult(statistic=1.5151515151515151, pvalue=0.46880153914023537)"
            ]
          },
          "metadata": {},
          "execution_count": 82
        }
      ]
    },
    {
      "cell_type": "markdown",
      "source": [
        "### 4-2. 독립성 <br/> 4-2-1. 연령대에 따라 먹는 아이스크림의 차이가 있는지 독립성 검정을 실시하시오."
      ],
      "metadata": {
        "id": "3mGQP2Atijyq"
      }
    },
    {
      "cell_type": "code",
      "source": [
        "import pandas as pd\n",
        "import numpy as np\n",
        "\n",
        "row1, row2 = [200, 190, 250], [220, 250, 300]\n",
        "df = pd.DataFrame([row1, row2], columns=['딸기','초코','바닐라'], index=['10대','20대'])\n",
        "df\n",
        "\n",
        "# 가설) H0: 차이가 없다, H1: 차이가 있다\n",
        "# 사용) chi2_contingency\n",
        "import scipy.stats as stats\n",
        "\n",
        "result = stats.chi2_contingency(df)\n",
        "\n",
        "# p-value 0.4256320394874311 이므로 유의수준보다 크다\n",
        "# 답) 차이가 없다. 즉, 연령대별로 다르지 않다."
      ],
      "metadata": {
        "id": "TUXYQx1Ei0RT",
        "colab": {
          "base_uri": "https://localhost:8080/"
        },
        "outputId": "efe8eea8-66d8-4cf0-be0d-a8115080820a"
      },
      "execution_count": null,
      "outputs": [
        {
          "output_type": "execute_result",
          "data": {
            "text/plain": [
              "Chi2ContingencyResult(statistic=1.708360126075226, pvalue=0.4256320394874311, dof=2, expected_freq=array([[190.63829787, 199.71631206, 249.64539007],\n",
              "       [229.36170213, 240.28368794, 300.35460993]]))"
            ]
          },
          "metadata": {},
          "execution_count": 89
        }
      ]
    },
    {
      "cell_type": "markdown",
      "source": [
        "### 추가. 만약 데이터 형태가 다를 경우?"
      ],
      "metadata": {
        "id": "Gr1OVAIjjgmP"
      }
    },
    {
      "cell_type": "code",
      "source": [
        "df2 = pd.DataFrame({\n",
        "    '아이스크림': ['딸기','초코','바닐라','딸기','초코','바닐라'], # columns\n",
        "    '연령': ['10대','10대','10대','20대','20대','20대'], # index\n",
        "    '인원': [200, 190, 250, 220, 250, 300] # values\n",
        "})\n",
        "\n",
        "df2 = pd.crosstab(index=df2['연령'], values=df2['인원'], columns=df2['아이스크림'], aggfunc='sum')\n",
        "\n",
        "import scipy.stats as stats\n",
        "result = stats.chi2_contingency(df2)\n",
        "result"
      ],
      "metadata": {
        "id": "-mwuM0tpjj8y",
        "colab": {
          "base_uri": "https://localhost:8080/"
        },
        "outputId": "76d0ed16-4524-43cc-f90d-de57c720f9c1"
      },
      "execution_count": null,
      "outputs": [
        {
          "output_type": "execute_result",
          "data": {
            "text/plain": [
              "Chi2ContingencyResult(statistic=1.708360126075226, pvalue=0.4256320394874311, dof=2, expected_freq=array([[190.63829787, 249.64539007, 199.71631206],\n",
              "       [229.36170213, 300.35460993, 240.28368794]]))"
            ]
          },
          "metadata": {},
          "execution_count": 106
        }
      ]
    },
    {
      "cell_type": "markdown",
      "source": [
        "### 4-2. 독립성 <br/> 4-2-2. 타이타닉에 데이터에서 성별(sex)과 생존여부(survived) 변수간 독립성 검정을 실시하시오."
      ],
      "metadata": {
        "id": "x_QTseqij0eF"
      }
    },
    {
      "cell_type": "code",
      "source": [
        "import seaborn as sns\n",
        "df = sns.load_dataset('titanic')\n",
        "\n",
        "df = pd.crosstab(df['sex'], df['survived'])\n",
        "df\n",
        "\n",
        "# 가설) H0: 성별과 생존여부 독립이다(관련이 없다), H1: 독립이 아니다(관련이 있다)\n",
        "import scipy.stats as stats\n",
        "\n",
        "result = stats.chi2_contingency(df)\n",
        "result\n",
        "\n",
        "# pvalue가 1.1973570627755645e 이므로 유의수준 0.05보다 낮다.\n",
        "# 답) 귀무가설을 기각하므로 독립이 아니다. 즉 관련이 있다."
      ],
      "metadata": {
        "id": "mU7Q8zd_j_z1",
        "colab": {
          "base_uri": "https://localhost:8080/"
        },
        "outputId": "e15f9d38-2333-49f5-bb91-1e8196a6dc53"
      },
      "execution_count": null,
      "outputs": [
        {
          "output_type": "execute_result",
          "data": {
            "text/plain": [
              "Chi2ContingencyResult(statistic=260.71702016732104, pvalue=1.1973570627755645e-58, dof=1, expected_freq=array([[193.47474747, 120.52525253],\n",
              "       [355.52525253, 221.47474747]]))"
            ]
          },
          "metadata": {},
          "execution_count": 110
        }
      ]
    },
    {
      "cell_type": "markdown",
      "source": [
        "\n",
        "\n",
        "---\n",
        "\n"
      ],
      "metadata": {
        "id": "cPtNLX8ckS4J"
      }
    },
    {
      "cell_type": "markdown",
      "source": [
        "## 6. 상관분석 (선형관계의 여부)\n",
        "\n"
      ],
      "metadata": {
        "id": "wOZmCCY_kkj6"
      }
    },
    {
      "cell_type": "code",
      "source": [
        "###############  실기환경 복사 영역  ###############\n",
        "import pandas as pd\n",
        "import numpy as np\n",
        "\n",
        "# 실기 시험 데이터셋으로 셋팅하기 (수정금지)\n",
        "from sklearn.datasets import load_diabetes\n",
        "# diabetes 데이터셋 로드\n",
        "diabetes = load_diabetes()\n",
        "\n",
        "x = pd.DataFrame(diabetes.data, columns=diabetes.feature_names)\n",
        "y = pd.DataFrame(diabetes.target)\n",
        "y.columns = ['target']\n",
        "###############  실기환경 복사 영역  ###############"
      ],
      "metadata": {
        "id": "GilIFGXsk3ib"
      },
      "execution_count": null,
      "outputs": []
    },
    {
      "cell_type": "code",
      "source": [
        "import scipy.stats as stats\n",
        "#H0: 선형관계이다, H1: 선형관계라고 할 수 없다.\n",
        "\n",
        "x = x['bmi']\n",
        "y = y['target']\n",
        "\n",
        "result = stats.pearsonr(x,y)\n",
        "\n",
        "print('상관계수', 0.5864501344746887)\n",
        "print('pvalue', 3.466006445167151e-42)\n",
        "\n",
        "# pvalue가 유의수준보다 낮으므로 귀무가설 기각. 선형관계라고 할 수 없다."
      ],
      "metadata": {
        "id": "nlCksP_s4jFf",
        "colab": {
          "base_uri": "https://localhost:8080/"
        },
        "outputId": "cb9569cf-7889-4a0b-9857-2ef443a4a148"
      },
      "execution_count": null,
      "outputs": [
        {
          "output_type": "execute_result",
          "data": {
            "text/plain": [
              "PearsonRResult(statistic=0.5864501344746887, pvalue=3.466006445167151e-42)"
            ]
          },
          "metadata": {},
          "execution_count": 119
        }
      ]
    },
    {
      "cell_type": "markdown",
      "source": [
        "\n",
        "\n",
        "---\n",
        "\n"
      ],
      "metadata": {
        "id": "e38PgqDFjQeq"
      }
    },
    {
      "cell_type": "markdown",
      "source": [
        "## 7. 다중회귀분석"
      ],
      "metadata": {
        "id": "wknf-s7fkUBT"
      }
    },
    {
      "cell_type": "markdown",
      "source": [
        "### 당뇨병 환자의 회귀식 산출"
      ],
      "metadata": {
        "id": "v71dBN7-kYU0"
      }
    },
    {
      "cell_type": "code",
      "source": [
        "###############  실기환경 복사 영역  ###############\n",
        "import pandas as pd\n",
        "import numpy as np\n",
        "\n",
        "# 실기 시험 데이터셋으로 셋팅하기 (수정금지)\n",
        "from sklearn.datasets import load_diabetes\n",
        "# diabetes 데이터셋 로드\n",
        "diabetes = load_diabetes()\n",
        "\n",
        "x = pd.DataFrame(diabetes.data, columns=diabetes.feature_names)\n",
        "y = pd.DataFrame(diabetes.target)\n",
        "y.columns = ['target']\n",
        "###############  실기환경 복사 영역  ###############"
      ],
      "metadata": {
        "id": "yGpQ5-4xkWrY"
      },
      "execution_count": null,
      "outputs": []
    },
    {
      "cell_type": "code",
      "source": [
        "from sklearn.linear_model import LinearRegression\n",
        "x = x[['age', 'sex', 'bmi']]\n",
        "print(x)\n",
        "\n",
        "model = LinearRegression()\n",
        "model.fit(x,y)"
      ],
      "metadata": {
        "colab": {
          "base_uri": "https://localhost:8080/",
          "height": 325
        },
        "id": "MY7casRwlIVN",
        "outputId": "924df19b-a882-4b14-b70a-ae0100fc33a4"
      },
      "execution_count": null,
      "outputs": [
        {
          "output_type": "stream",
          "name": "stdout",
          "text": [
            "          age       sex       bmi\n",
            "0    0.038076  0.050680  0.061696\n",
            "1   -0.001882 -0.044642 -0.051474\n",
            "2    0.085299  0.050680  0.044451\n",
            "3   -0.089063 -0.044642 -0.011595\n",
            "4    0.005383 -0.044642 -0.036385\n",
            "..        ...       ...       ...\n",
            "437  0.041708  0.050680  0.019662\n",
            "438 -0.005515  0.050680 -0.015906\n",
            "439  0.041708  0.050680 -0.015906\n",
            "440 -0.045472 -0.044642  0.039062\n",
            "441 -0.045472 -0.044642 -0.073030\n",
            "\n",
            "[442 rows x 3 columns]\n"
          ]
        },
        {
          "output_type": "execute_result",
          "data": {
            "text/plain": [
              "LinearRegression()"
            ],
            "text/html": [
              "<style>#sk-container-id-4 {color: black;background-color: white;}#sk-container-id-4 pre{padding: 0;}#sk-container-id-4 div.sk-toggleable {background-color: white;}#sk-container-id-4 label.sk-toggleable__label {cursor: pointer;display: block;width: 100%;margin-bottom: 0;padding: 0.3em;box-sizing: border-box;text-align: center;}#sk-container-id-4 label.sk-toggleable__label-arrow:before {content: \"▸\";float: left;margin-right: 0.25em;color: #696969;}#sk-container-id-4 label.sk-toggleable__label-arrow:hover:before {color: black;}#sk-container-id-4 div.sk-estimator:hover label.sk-toggleable__label-arrow:before {color: black;}#sk-container-id-4 div.sk-toggleable__content {max-height: 0;max-width: 0;overflow: hidden;text-align: left;background-color: #f0f8ff;}#sk-container-id-4 div.sk-toggleable__content pre {margin: 0.2em;color: black;border-radius: 0.25em;background-color: #f0f8ff;}#sk-container-id-4 input.sk-toggleable__control:checked~div.sk-toggleable__content {max-height: 200px;max-width: 100%;overflow: auto;}#sk-container-id-4 input.sk-toggleable__control:checked~label.sk-toggleable__label-arrow:before {content: \"▾\";}#sk-container-id-4 div.sk-estimator input.sk-toggleable__control:checked~label.sk-toggleable__label {background-color: #d4ebff;}#sk-container-id-4 div.sk-label input.sk-toggleable__control:checked~label.sk-toggleable__label {background-color: #d4ebff;}#sk-container-id-4 input.sk-hidden--visually {border: 0;clip: rect(1px 1px 1px 1px);clip: rect(1px, 1px, 1px, 1px);height: 1px;margin: -1px;overflow: hidden;padding: 0;position: absolute;width: 1px;}#sk-container-id-4 div.sk-estimator {font-family: monospace;background-color: #f0f8ff;border: 1px dotted black;border-radius: 0.25em;box-sizing: border-box;margin-bottom: 0.5em;}#sk-container-id-4 div.sk-estimator:hover {background-color: #d4ebff;}#sk-container-id-4 div.sk-parallel-item::after {content: \"\";width: 100%;border-bottom: 1px solid gray;flex-grow: 1;}#sk-container-id-4 div.sk-label:hover label.sk-toggleable__label {background-color: #d4ebff;}#sk-container-id-4 div.sk-serial::before {content: \"\";position: absolute;border-left: 1px solid gray;box-sizing: border-box;top: 0;bottom: 0;left: 50%;z-index: 0;}#sk-container-id-4 div.sk-serial {display: flex;flex-direction: column;align-items: center;background-color: white;padding-right: 0.2em;padding-left: 0.2em;position: relative;}#sk-container-id-4 div.sk-item {position: relative;z-index: 1;}#sk-container-id-4 div.sk-parallel {display: flex;align-items: stretch;justify-content: center;background-color: white;position: relative;}#sk-container-id-4 div.sk-item::before, #sk-container-id-4 div.sk-parallel-item::before {content: \"\";position: absolute;border-left: 1px solid gray;box-sizing: border-box;top: 0;bottom: 0;left: 50%;z-index: -1;}#sk-container-id-4 div.sk-parallel-item {display: flex;flex-direction: column;z-index: 1;position: relative;background-color: white;}#sk-container-id-4 div.sk-parallel-item:first-child::after {align-self: flex-end;width: 50%;}#sk-container-id-4 div.sk-parallel-item:last-child::after {align-self: flex-start;width: 50%;}#sk-container-id-4 div.sk-parallel-item:only-child::after {width: 0;}#sk-container-id-4 div.sk-dashed-wrapped {border: 1px dashed gray;margin: 0 0.4em 0.5em 0.4em;box-sizing: border-box;padding-bottom: 0.4em;background-color: white;}#sk-container-id-4 div.sk-label label {font-family: monospace;font-weight: bold;display: inline-block;line-height: 1.2em;}#sk-container-id-4 div.sk-label-container {text-align: center;}#sk-container-id-4 div.sk-container {/* jupyter's `normalize.less` sets `[hidden] { display: none; }` but bootstrap.min.css set `[hidden] { display: none !important; }` so we also need the `!important` here to be able to override the default hidden behavior on the sphinx rendered scikit-learn.org. See: https://github.com/scikit-learn/scikit-learn/issues/21755 */display: inline-block !important;position: relative;}#sk-container-id-4 div.sk-text-repr-fallback {display: none;}</style><div id=\"sk-container-id-4\" class=\"sk-top-container\"><div class=\"sk-text-repr-fallback\"><pre>LinearRegression()</pre><b>In a Jupyter environment, please rerun this cell to show the HTML representation or trust the notebook. <br />On GitHub, the HTML representation is unable to render, please try loading this page with nbviewer.org.</b></div><div class=\"sk-container\" hidden><div class=\"sk-item\"><div class=\"sk-estimator sk-toggleable\"><input class=\"sk-toggleable__control sk-hidden--visually\" id=\"sk-estimator-id-4\" type=\"checkbox\" checked><label for=\"sk-estimator-id-4\" class=\"sk-toggleable__label sk-toggleable__label-arrow\">LinearRegression</label><div class=\"sk-toggleable__content\"><pre>LinearRegression()</pre></div></div></div></div></div>"
            ]
          },
          "metadata": {},
          "execution_count": 133
        }
      ]
    },
    {
      "cell_type": "markdown",
      "source": [
        "#### 7-1. 결정계수(Rsq) 출력"
      ],
      "metadata": {
        "id": "5fPQbX864B7I"
      }
    },
    {
      "cell_type": "code",
      "source": [
        "model.score(x,y)"
      ],
      "metadata": {
        "id": "ZGYtNC_l4K4t",
        "colab": {
          "base_uri": "https://localhost:8080/"
        },
        "outputId": "ff29c022-4203-460c-d9d6-37011450a72f"
      },
      "execution_count": null,
      "outputs": [
        {
          "output_type": "execute_result",
          "data": {
            "text/plain": [
              "0.3509243728489838"
            ]
          },
          "metadata": {},
          "execution_count": 134
        }
      ]
    },
    {
      "cell_type": "markdown",
      "source": [
        "#### 7-2. 회귀계수, 절편 출력\n",
        "\n",
        "\n"
      ],
      "metadata": {
        "id": "0vveCHHZ4LM0"
      }
    },
    {
      "cell_type": "code",
      "source": [
        "# 회귀계수\n",
        "coef = model.coef_\n",
        "print(coef)\n",
        "\n",
        "# 절편\n",
        "intercept = model.intercept_\n",
        "print(intercept)"
      ],
      "metadata": {
        "id": "iwY_aYof4SU_",
        "colab": {
          "base_uri": "https://localhost:8080/"
        },
        "outputId": "28ab97b2-dbef-4037-8161-0702142800e8"
      },
      "execution_count": null,
      "outputs": [
        {
          "output_type": "stream",
          "name": "stdout",
          "text": [
            "[[138.9039107  -36.13526678 926.91201212]]\n",
            "[152.13348416]\n"
          ]
        }
      ]
    },
    {
      "cell_type": "markdown",
      "source": [
        "#### 7-3. 회귀식 출력"
      ],
      "metadata": {
        "id": "oYR4Yujj4Tzc"
      }
    },
    {
      "cell_type": "markdown",
      "source": [
        "y = 152 +138age -36sex + 926bmi"
      ],
      "metadata": {
        "id": "-fR0SO4Gl53n"
      }
    },
    {
      "cell_type": "markdown",
      "source": [
        "\n",
        "\n",
        "---\n",
        "\n"
      ],
      "metadata": {
        "id": "N8av4_ozkuOX"
      }
    },
    {
      "cell_type": "markdown",
      "source": [
        "## 7. 로지스틱 회귀분석"
      ],
      "metadata": {
        "id": "J-ApolQfmdgG"
      }
    },
    {
      "cell_type": "code",
      "source": [
        "###############  실기환경 복사 영역  ###############\n",
        "import pandas as pd\n",
        "import numpy as np\n",
        "\n",
        "import seaborn as sns\n",
        "df = sns.load_dataset('titanic')\n",
        "\n",
        "print(df.head())\n",
        "###############  실기환경 복사 영역  ###############"
      ],
      "metadata": {
        "id": "sSrkfAgv3vLL",
        "colab": {
          "base_uri": "https://localhost:8080/"
        },
        "outputId": "13cbbaa2-40ae-4c37-86c0-c223dcea7918"
      },
      "execution_count": null,
      "outputs": [
        {
          "output_type": "stream",
          "name": "stdout",
          "text": [
            "   survived  pclass     sex   age  sibsp  parch     fare embarked  class  \\\n",
            "0         0       3    male  22.0      1      0   7.2500        S  Third   \n",
            "1         1       1  female  38.0      1      0  71.2833        C  First   \n",
            "2         1       3  female  26.0      0      0   7.9250        S  Third   \n",
            "3         1       1  female  35.0      1      0  53.1000        S  First   \n",
            "4         0       3    male  35.0      0      0   8.0500        S  Third   \n",
            "\n",
            "     who  adult_male deck  embark_town alive  alone  \n",
            "0    man        True  NaN  Southampton    no  False  \n",
            "1  woman       False    C    Cherbourg   yes  False  \n",
            "2  woman       False  NaN  Southampton   yes   True  \n",
            "3  woman       False    C  Southampton   yes  False  \n",
            "4    man        True  NaN  Southampton    no   True  \n"
          ]
        }
      ]
    },
    {
      "cell_type": "code",
      "source": [
        "df = df[['survived', 'sex', 'sibsp','fare']]\n",
        "# print(df)\n",
        "\n",
        "# 여자1, 남자0\n",
        "df['sex'] = df['sex'].map({ 'female': 1, 'male': 0})\n",
        "# print(df['sex'])\n",
        "\n",
        "x = df.drop(columns=['survived'])\n",
        "y = df['survived']\n",
        "\n",
        "# 로지스틱 회귀모형\n",
        "from sklearn.linear_model import LogisticRegression\n",
        "\n",
        "model = LogisticRegression(penalty=None)\n",
        "model.fit(x,y)"
      ],
      "metadata": {
        "colab": {
          "base_uri": "https://localhost:8080/",
          "height": 201
        },
        "id": "O8cTjYS8m-1M",
        "outputId": "7ca28e1f-7052-41c5-ddc6-38b6ea8234e7"
      },
      "execution_count": null,
      "outputs": [
        {
          "output_type": "stream",
          "name": "stderr",
          "text": [
            "<ipython-input-174-455d34072a02>:5: SettingWithCopyWarning: \n",
            "A value is trying to be set on a copy of a slice from a DataFrame.\n",
            "Try using .loc[row_indexer,col_indexer] = value instead\n",
            "\n",
            "See the caveats in the documentation: https://pandas.pydata.org/pandas-docs/stable/user_guide/indexing.html#returning-a-view-versus-a-copy\n",
            "  df['sex'] = df['sex'].map({ 'female': 1, 'male': 0})\n"
          ]
        },
        {
          "output_type": "execute_result",
          "data": {
            "text/plain": [
              "LogisticRegression(penalty=None)"
            ],
            "text/html": [
              "<style>#sk-container-id-6 {color: black;background-color: white;}#sk-container-id-6 pre{padding: 0;}#sk-container-id-6 div.sk-toggleable {background-color: white;}#sk-container-id-6 label.sk-toggleable__label {cursor: pointer;display: block;width: 100%;margin-bottom: 0;padding: 0.3em;box-sizing: border-box;text-align: center;}#sk-container-id-6 label.sk-toggleable__label-arrow:before {content: \"▸\";float: left;margin-right: 0.25em;color: #696969;}#sk-container-id-6 label.sk-toggleable__label-arrow:hover:before {color: black;}#sk-container-id-6 div.sk-estimator:hover label.sk-toggleable__label-arrow:before {color: black;}#sk-container-id-6 div.sk-toggleable__content {max-height: 0;max-width: 0;overflow: hidden;text-align: left;background-color: #f0f8ff;}#sk-container-id-6 div.sk-toggleable__content pre {margin: 0.2em;color: black;border-radius: 0.25em;background-color: #f0f8ff;}#sk-container-id-6 input.sk-toggleable__control:checked~div.sk-toggleable__content {max-height: 200px;max-width: 100%;overflow: auto;}#sk-container-id-6 input.sk-toggleable__control:checked~label.sk-toggleable__label-arrow:before {content: \"▾\";}#sk-container-id-6 div.sk-estimator input.sk-toggleable__control:checked~label.sk-toggleable__label {background-color: #d4ebff;}#sk-container-id-6 div.sk-label input.sk-toggleable__control:checked~label.sk-toggleable__label {background-color: #d4ebff;}#sk-container-id-6 input.sk-hidden--visually {border: 0;clip: rect(1px 1px 1px 1px);clip: rect(1px, 1px, 1px, 1px);height: 1px;margin: -1px;overflow: hidden;padding: 0;position: absolute;width: 1px;}#sk-container-id-6 div.sk-estimator {font-family: monospace;background-color: #f0f8ff;border: 1px dotted black;border-radius: 0.25em;box-sizing: border-box;margin-bottom: 0.5em;}#sk-container-id-6 div.sk-estimator:hover {background-color: #d4ebff;}#sk-container-id-6 div.sk-parallel-item::after {content: \"\";width: 100%;border-bottom: 1px solid gray;flex-grow: 1;}#sk-container-id-6 div.sk-label:hover label.sk-toggleable__label {background-color: #d4ebff;}#sk-container-id-6 div.sk-serial::before {content: \"\";position: absolute;border-left: 1px solid gray;box-sizing: border-box;top: 0;bottom: 0;left: 50%;z-index: 0;}#sk-container-id-6 div.sk-serial {display: flex;flex-direction: column;align-items: center;background-color: white;padding-right: 0.2em;padding-left: 0.2em;position: relative;}#sk-container-id-6 div.sk-item {position: relative;z-index: 1;}#sk-container-id-6 div.sk-parallel {display: flex;align-items: stretch;justify-content: center;background-color: white;position: relative;}#sk-container-id-6 div.sk-item::before, #sk-container-id-6 div.sk-parallel-item::before {content: \"\";position: absolute;border-left: 1px solid gray;box-sizing: border-box;top: 0;bottom: 0;left: 50%;z-index: -1;}#sk-container-id-6 div.sk-parallel-item {display: flex;flex-direction: column;z-index: 1;position: relative;background-color: white;}#sk-container-id-6 div.sk-parallel-item:first-child::after {align-self: flex-end;width: 50%;}#sk-container-id-6 div.sk-parallel-item:last-child::after {align-self: flex-start;width: 50%;}#sk-container-id-6 div.sk-parallel-item:only-child::after {width: 0;}#sk-container-id-6 div.sk-dashed-wrapped {border: 1px dashed gray;margin: 0 0.4em 0.5em 0.4em;box-sizing: border-box;padding-bottom: 0.4em;background-color: white;}#sk-container-id-6 div.sk-label label {font-family: monospace;font-weight: bold;display: inline-block;line-height: 1.2em;}#sk-container-id-6 div.sk-label-container {text-align: center;}#sk-container-id-6 div.sk-container {/* jupyter's `normalize.less` sets `[hidden] { display: none; }` but bootstrap.min.css set `[hidden] { display: none !important; }` so we also need the `!important` here to be able to override the default hidden behavior on the sphinx rendered scikit-learn.org. See: https://github.com/scikit-learn/scikit-learn/issues/21755 */display: inline-block !important;position: relative;}#sk-container-id-6 div.sk-text-repr-fallback {display: none;}</style><div id=\"sk-container-id-6\" class=\"sk-top-container\"><div class=\"sk-text-repr-fallback\"><pre>LogisticRegression(penalty=None)</pre><b>In a Jupyter environment, please rerun this cell to show the HTML representation or trust the notebook. <br />On GitHub, the HTML representation is unable to render, please try loading this page with nbviewer.org.</b></div><div class=\"sk-container\" hidden><div class=\"sk-item\"><div class=\"sk-estimator sk-toggleable\"><input class=\"sk-toggleable__control sk-hidden--visually\" id=\"sk-estimator-id-6\" type=\"checkbox\" checked><label for=\"sk-estimator-id-6\" class=\"sk-toggleable__label sk-toggleable__label-arrow\">LogisticRegression</label><div class=\"sk-toggleable__content\"><pre>LogisticRegression(penalty=None)</pre></div></div></div></div></div>"
            ]
          },
          "metadata": {},
          "execution_count": 174
        }
      ]
    },
    {
      "cell_type": "code",
      "source": [
        "# 회귀계수: 0.7867564534231201\n",
        "print(model.score(x, y))\n",
        "print(model.coef_)\n",
        "print(model.intercept_)"
      ],
      "metadata": {
        "id": "ifN5-QaJ5PHG",
        "colab": {
          "base_uri": "https://localhost:8080/"
        },
        "outputId": "337748a4-74d2-470e-dcda-5edc42a3c20e"
      },
      "execution_count": null,
      "outputs": [
        {
          "output_type": "stream",
          "name": "stdout",
          "text": [
            "0.7867564534231201\n",
            "[[ 2.56677766 -0.40170461  0.01375665]]\n",
            "[-1.69644546]\n"
          ]
        }
      ]
    },
    {
      "cell_type": "markdown",
      "source": [
        "#### 7-1. 로지스틱 회귀모형에서 sibsp 변수가 한단위 증가할때 생존할 오즈가 몇 배 증가하는지 반올림하여 소수점 셋째자리까지 구하시오."
      ],
      "metadata": {
        "id": "bkEhoDsI5Hf_"
      }
    },
    {
      "cell_type": "code",
      "source": [
        "odds_s = np.exp(model.coef_[0,1])\n",
        "round(odds_s,3)"
      ],
      "metadata": {
        "colab": {
          "base_uri": "https://localhost:8080/"
        },
        "id": "6Y6HjOF2p9KR",
        "outputId": "5c69972c-0dc4-4dee-e5a0-3d24a833b025"
      },
      "execution_count": null,
      "outputs": [
        {
          "output_type": "execute_result",
          "data": {
            "text/plain": [
              "0.669"
            ]
          },
          "metadata": {},
          "execution_count": 177
        }
      ]
    },
    {
      "cell_type": "markdown",
      "source": [
        "#### 7-2. 로지스틱 회귀모형에서 여성일 경우 남성에 비해 오즈가 몇 배 증가하는지 반올림하여 소수점 셋째 자리까지 구하시오."
      ],
      "metadata": {
        "id": "1qiAxP4I5Oz8"
      }
    },
    {
      "cell_type": "code",
      "source": [
        "odds_sex = np.exp(model.coef_[0,0])\n",
        "round(odds_sex,3)"
      ],
      "metadata": {
        "id": "82eiadoB5WBU",
        "colab": {
          "base_uri": "https://localhost:8080/"
        },
        "outputId": "4d2ad3a5-d121-4e6c-9fdb-616e64e09874"
      },
      "execution_count": null,
      "outputs": [
        {
          "output_type": "execute_result",
          "data": {
            "text/plain": [
              "13.024"
            ]
          },
          "metadata": {},
          "execution_count": 178
        }
      ]
    },
    {
      "cell_type": "markdown",
      "source": [
        "#### 7-3. 회귀식 출력"
      ],
      "metadata": {
        "id": "VjPQrtfv5W-S"
      }
    },
    {
      "cell_type": "markdown",
      "source": [
        "y = -1.69644546 + 2.56677766sex -0.40170461sisap + 0.01375665"
      ],
      "metadata": {
        "id": "gu9ygusApyk3"
      }
    }
  ]
}