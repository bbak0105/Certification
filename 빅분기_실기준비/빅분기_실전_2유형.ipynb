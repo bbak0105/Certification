{
  "nbformat": 4,
  "nbformat_minor": 0,
  "metadata": {
    "colab": {
      "provenance": []
    },
    "kernelspec": {
      "name": "python3",
      "display_name": "Python 3"
    },
    "language_info": {
      "name": "python"
    }
  },
  "cells": [
    {
      "cell_type": "markdown",
      "source": [
        "## 1. 와인종류분류"
      ],
      "metadata": {
        "id": "DfV_K3kDOxu_"
      }
    },
    {
      "cell_type": "code",
      "execution_count": null,
      "metadata": {
        "id": "FcEQlN2aOFfh"
      },
      "outputs": [],
      "source": [
        "import pandas as pd\n",
        "import numpy as np\n",
        "\n",
        "###############  실기환경 복사 영역  ###############\n",
        "import pandas as pd\n",
        "import numpy as np\n",
        "# 실기 시험 데이터셋으로 셋팅하기 (수정금지)\n",
        "\n",
        "from sklearn.datasets import load_wine\n",
        "# 와인 데이터셋을 로드합니다.\n",
        "wine = load_wine()\n",
        "x = pd.DataFrame(wine.data, columns=wine.feature_names)\n",
        "y = pd.DataFrame(wine.target)\n",
        "\n",
        "# 실기 시험 데이터셋으로 셋팅하기 (수정금지)\n",
        "from sklearn.model_selection import train_test_split\n",
        "x_train, x_test, y_train, y_test = train_test_split(x, y, test_size=0.2,\n",
        "                                                    stratify=y,\n",
        "                                                    random_state=2023)\n",
        "\n",
        "x_test = pd.DataFrame(x_test)\n",
        "x_train = pd.DataFrame(x_train)\n",
        "y_train = pd.DataFrame(y_train)\n",
        "\n",
        "x_test.reset_index()\n",
        "y_train.columns = ['target']\n",
        "###############  실기환경 복사 영역  ###############"
      ]
    },
    {
      "cell_type": "markdown",
      "source": [
        "#### 와인의 종류를 분류해보자. <br/> - 데이터의 결측치, 이상치에 대해 처리하고 <br/> - 분류모델을 사용하여 정확도, F1 score, AUC 값을 산출하시오. <br/> - 제출은 result 변수에 담아 양식에 맞게 제출하시오. <br/> ex) 양식 예시: pd.DataFrame({'result': y_result }).to_csv('수험번호.csv, index=False)"
      ],
      "metadata": {
        "id": "4uzW1xoUPwAc"
      }
    },
    {
      "cell_type": "code",
      "source": [
        "# 데이터 확인(EDA)\n",
        "x_train.head(5)\n",
        "x_test.head(5)\n",
        "y_train.head(5)\n",
        "\n",
        "print(x_train.shape)\n",
        "print(y_train.shape)\n",
        "print(x_test.shape)\n",
        "\n",
        "# 데이터 결측치, 이상치\n",
        "x_train.info() # 결측치 X\n",
        "y_train.info() # 결측치 X\n",
        "\n",
        "x_train.describe() # 이상치 X\n",
        "\n",
        "y_train.value_counts() # 3개 분류"
      ],
      "metadata": {
        "id": "Jn3beJ2TdQ0l",
        "colab": {
          "base_uri": "https://localhost:8080/"
        },
        "outputId": "4cad934f-6851-468e-a1e7-50578e91bad6"
      },
      "execution_count": null,
      "outputs": [
        {
          "output_type": "stream",
          "name": "stdout",
          "text": [
            "(142, 13)\n",
            "(142, 1)\n",
            "(36, 13)\n",
            "<class 'pandas.core.frame.DataFrame'>\n",
            "Int64Index: 142 entries, 52 to 115\n",
            "Data columns (total 13 columns):\n",
            " #   Column                        Non-Null Count  Dtype  \n",
            "---  ------                        --------------  -----  \n",
            " 0   alcohol                       142 non-null    float64\n",
            " 1   malic_acid                    142 non-null    float64\n",
            " 2   ash                           142 non-null    float64\n",
            " 3   alcalinity_of_ash             142 non-null    float64\n",
            " 4   magnesium                     142 non-null    float64\n",
            " 5   total_phenols                 142 non-null    float64\n",
            " 6   flavanoids                    142 non-null    float64\n",
            " 7   nonflavanoid_phenols          142 non-null    float64\n",
            " 8   proanthocyanins               142 non-null    float64\n",
            " 9   color_intensity               142 non-null    float64\n",
            " 10  hue                           142 non-null    float64\n",
            " 11  od280/od315_of_diluted_wines  142 non-null    float64\n",
            " 12  proline                       142 non-null    float64\n",
            "dtypes: float64(13)\n",
            "memory usage: 15.5 KB\n",
            "<class 'pandas.core.frame.DataFrame'>\n",
            "Int64Index: 142 entries, 52 to 115\n",
            "Data columns (total 1 columns):\n",
            " #   Column  Non-Null Count  Dtype\n",
            "---  ------  --------------  -----\n",
            " 0   target  142 non-null    int64\n",
            "dtypes: int64(1)\n",
            "memory usage: 2.2 KB\n"
          ]
        },
        {
          "output_type": "execute_result",
          "data": {
            "text/plain": [
              "target\n",
              "1         57\n",
              "0         47\n",
              "2         38\n",
              "dtype: int64"
            ]
          },
          "metadata": {},
          "execution_count": 184
        }
      ]
    },
    {
      "cell_type": "code",
      "source": [
        "# 데이터 분류\n",
        "from sklearn.model_selection import train_test_split\n",
        "\n",
        "X_train, x_val, Y_train, y_val = train_test_split(\n",
        "    x_train,\n",
        "    y_train['target'],\n",
        "    random_state=2023,\n",
        "    stratify=y_train['target'],\n",
        "    test_size=0.2\n",
        ")\n",
        "\n",
        "print(X_train.shape)\n",
        "print(Y_train.shape)\n",
        "print(x_val.shape)\n",
        "print(y_val.shape)"
      ],
      "metadata": {
        "colab": {
          "base_uri": "https://localhost:8080/"
        },
        "id": "h1sTAjfGiq40",
        "outputId": "d5c3e412-bde8-4c72-de61-0ed446c65cef"
      },
      "execution_count": null,
      "outputs": [
        {
          "output_type": "stream",
          "name": "stdout",
          "text": [
            "(113, 13)\n",
            "(113,)\n",
            "(29, 13)\n",
            "(29,)\n"
          ]
        }
      ]
    },
    {
      "cell_type": "code",
      "source": [
        "# 모델 만들고 실행\n",
        "from sklearn.ensemble import RandomForestClassifier\n",
        "\n",
        "model = RandomForestClassifier()\n",
        "model.fit(X_train, Y_train)\n",
        "\n",
        "y_pred = model.predict(x_val)\n",
        "\n",
        "import sklearn.metrics as mc\n",
        "from sklearn.metrics import accuracy_score, f1_score, roc_auc_score\n",
        "\n",
        "acc = accuracy_score(y_val, y_pred)\n",
        "f1 = f1_score(y_val, y_pred, average='macro')\n",
        "\n",
        "# 정확도\n",
        "print(acc)\n",
        "\n",
        "# f1\n",
        "print(f1)\n",
        "\n",
        "y_result = model.predict(x_test)\n",
        "result = model.predict_proba(x_test)\n",
        "\n",
        "print(y_result)\n",
        "print(result)\n",
        "\n",
        "pd.DataFrame({'result': y_result }).to_csv('수험번호.csv', index=False)\n",
        "# check = pd.read_csv('수험번호.csv')\n",
        "# print(check)"
      ],
      "metadata": {
        "colab": {
          "base_uri": "https://localhost:8080/"
        },
        "id": "qvlQ7t2Ak8ce",
        "outputId": "f4ae6087-5f53-4689-9d5d-e39e60239f47"
      },
      "execution_count": null,
      "outputs": [
        {
          "output_type": "stream",
          "name": "stdout",
          "text": [
            "1.0\n",
            "1.0\n",
            "[2 2 2 0 1 1 1 0 2 1 2 0 2 1 1 1 1 2 1 0 1 0 1 0 0 1 0 2 1 1 1 2 0 0 2 0]\n",
            "[[0.01 0.   0.99]\n",
            " [0.11 0.09 0.8 ]\n",
            " [0.   0.13 0.87]\n",
            " [0.98 0.02 0.  ]\n",
            " [0.05 0.92 0.03]\n",
            " [0.46 0.49 0.05]\n",
            " [0.   0.77 0.23]\n",
            " [0.84 0.14 0.02]\n",
            " [0.04 0.26 0.7 ]\n",
            " [0.   1.   0.  ]\n",
            " [0.04 0.03 0.93]\n",
            " [0.91 0.03 0.06]\n",
            " [0.04 0.07 0.89]\n",
            " [0.04 0.96 0.  ]\n",
            " [0.   0.82 0.18]\n",
            " [0.25 0.71 0.04]\n",
            " [0.   0.94 0.06]\n",
            " [0.   0.02 0.98]\n",
            " [0.01 0.98 0.01]\n",
            " [0.69 0.3  0.01]\n",
            " [0.   0.95 0.05]\n",
            " [0.93 0.06 0.01]\n",
            " [0.   0.96 0.04]\n",
            " [0.95 0.05 0.  ]\n",
            " [0.8  0.2  0.  ]\n",
            " [0.   0.94 0.06]\n",
            " [0.79 0.2  0.01]\n",
            " [0.   0.09 0.91]\n",
            " [0.   0.98 0.02]\n",
            " [0.21 0.77 0.02]\n",
            " [0.23 0.77 0.  ]\n",
            " [0.05 0.09 0.86]\n",
            " [0.97 0.01 0.02]\n",
            " [0.95 0.05 0.  ]\n",
            " [0.   0.02 0.98]\n",
            " [0.94 0.03 0.03]]\n"
          ]
        }
      ]
    },
    {
      "cell_type": "markdown",
      "source": [
        "\n",
        "\n",
        "---\n",
        "\n"
      ],
      "metadata": {
        "id": "p7OPCdFnPo5D"
      }
    },
    {
      "cell_type": "markdown",
      "source": [
        "### 2. 붓꽃 분류"
      ],
      "metadata": {
        "id": "Y9AkXeFZPqCt"
      }
    },
    {
      "cell_type": "code",
      "source": [
        "###############  실기환경 복사 영역  ###############\n",
        "import pandas as pd\n",
        "import numpy as np\n",
        "# 실기 시험 데이터셋으로 셋팅하기 (수정금지)\n",
        "from sklearn.datasets import load_iris\n",
        "# Iris 데이터셋을 로드\n",
        "iris = load_iris()\n",
        "x = pd.DataFrame(iris.data, columns=['sepal_length', 'sepal_width', 'petal_length', 'petal_width'])\n",
        "y = iris.target   # 'setosa'=0, 'versicolor'=1, 'virginica'=2\n",
        "y = np.where(y>0, 1, 0) # setosa 종은 0, 나머지 종은 1로 변경\n",
        "\n",
        "# 실기 시험 데이터셋으로 셋팅하기 (수정금지)\n",
        "from sklearn.model_selection import train_test_split\n",
        "x_train, x_test, y_train, y_test = train_test_split(x, y, test_size=0.2,\n",
        "                                                    stratify=y,\n",
        "                                                    random_state=2023)\n",
        "\n",
        "x_test = pd.DataFrame(x_test)\n",
        "x_train = pd.DataFrame(x_train)\n",
        "y_train = pd.DataFrame(y_train)\n",
        "y_train.columns = ['species']\n",
        "\n",
        "# 결측치 삽입\n",
        "x_test['sepal_length'].iloc[0] = None\n",
        "x_train['sepal_length'].iloc[0] = None\n",
        "# 이상치 삽입\n",
        "x_train['sepal_width'].iloc[0] = 150\n",
        "###############  실기환경 복사 영역  ###############"
      ],
      "metadata": {
        "id": "Q_KlAb5nQlRh"
      },
      "execution_count": null,
      "outputs": []
    },
    {
      "cell_type": "markdown",
      "source": [
        "#### 붓꽃의 종을 분류해보자. <br/> - 데이터의 결측치, 이상치에 대해 처리하고 <br/> - 분류모델을 사용하여 정확도, F1 score, AUC값을 산출하시오. <br/> - 제출은 result 변수에 담아 양식에 맞게 제출하시오. <br/> ex) 양식 예시: pd.DataFrame({'result': y_result }).to_csv('수험번호.csv, index=False)"
      ],
      "metadata": {
        "id": "Sn7ilnNvZpwt"
      }
    },
    {
      "cell_type": "code",
      "source": [
        "# 데이터 탐색 (EDA)\n",
        "print(x_train.shape)\n",
        "print(y_train.shape)\n",
        "print(x_test.shape)\n",
        "\n",
        "x_train.info() # sepal_length 결측치 존재\n",
        "y_train.info()\n",
        "print(y_train.value_counts())\n",
        "\n",
        "# 결측치 채우기 (연속형이므로 중앙값으로)\n",
        "median = x_train['sepal_length'].median()\n",
        "x_train['sepal_length'] = x_train['sepal_length'].fillna(median)\n",
        "x_test['sepal_length'] = x_test['sepal_length'].fillna(median)\n",
        "\n",
        "# 이상치 확인\n",
        "x_train.describe() # sepal_width의 max가 상당히 크다\n",
        "# x_train.head(10)\n",
        "\n",
        "Q3 = x_train['sepal_width'].quantile(0.75)\n",
        "Q1 = x_train['sepal_width'].quantile(0.25)\n",
        "IQR = Q3 - Q1\n",
        "\n",
        "max_outlier = Q3 + (IQR * 1.5)\n",
        "x_train_outlier = x_train[x_train['sepal_width'] > max_outlier]\n",
        "\n",
        "# 이상치 대체\n",
        "x_train['sepal_width'] = np.where(x_train['sepal_width'] > 10, x_train['sepal_width'].median(), x_train['sepal_width'])\n",
        "x_train\n",
        "\n",
        "x_train.describe()\n",
        "print(x_train.shape)\n",
        "print(y_train.shape)\n",
        "print(x_test.shape)"
      ],
      "metadata": {
        "id": "ALyEdBlCdRlB",
        "colab": {
          "base_uri": "https://localhost:8080/"
        },
        "outputId": "f21e1b35-33a2-4ad8-b5ff-1e3ca3bc08af"
      },
      "execution_count": null,
      "outputs": [
        {
          "output_type": "stream",
          "name": "stdout",
          "text": [
            "(120, 4)\n",
            "(120, 1)\n",
            "(30, 4)\n",
            "<class 'pandas.core.frame.DataFrame'>\n",
            "Int64Index: 120 entries, 2 to 44\n",
            "Data columns (total 4 columns):\n",
            " #   Column        Non-Null Count  Dtype  \n",
            "---  ------        --------------  -----  \n",
            " 0   sepal_length  120 non-null    float64\n",
            " 1   sepal_width   120 non-null    float64\n",
            " 2   petal_length  120 non-null    float64\n",
            " 3   petal_width   120 non-null    float64\n",
            "dtypes: float64(4)\n",
            "memory usage: 4.7 KB\n",
            "<class 'pandas.core.frame.DataFrame'>\n",
            "RangeIndex: 120 entries, 0 to 119\n",
            "Data columns (total 1 columns):\n",
            " #   Column   Non-Null Count  Dtype\n",
            "---  ------   --------------  -----\n",
            " 0   species  120 non-null    int64\n",
            "dtypes: int64(1)\n",
            "memory usage: 1.1 KB\n",
            "species\n",
            "1          80\n",
            "0          40\n",
            "dtype: int64\n",
            "(120, 4)\n",
            "(120, 1)\n",
            "(30, 4)\n"
          ]
        }
      ]
    },
    {
      "cell_type": "code",
      "source": [
        "# 데이터 분류\n",
        "from sklearn.model_selection import train_test_split\n",
        "X_train, x_val, Y_train, y_val = train_test_split(\n",
        "    x_train,\n",
        "    y_train['species'],\n",
        "    random_state = 2023,\n",
        "    test_size=0.2,\n",
        "    stratify=y_train['species']\n",
        ")\n",
        "\n",
        "# 모델 생성\n",
        "from sklearn.ensemble import RandomForestClassifier\n",
        "\n",
        "model = RandomForestClassifier()\n",
        "model.fit(X_train, Y_train)\n",
        "\n",
        "# 예측\n",
        "y_pred = model.predict(x_val)\n",
        "\n",
        "# 정확도 출력\n",
        "from sklearn.metrics import accuracy_score, f1_score, roc_auc_score\n",
        "\n",
        "acc = accuracy_score(y_val, y_pred)\n",
        "acc\n",
        "\n",
        "f1 = f1_score(y_val, y_pred)\n",
        "f1\n",
        "\n",
        "roc = roc_auc_score(y_val, y_pred)\n",
        "roc"
      ],
      "metadata": {
        "colab": {
          "base_uri": "https://localhost:8080/"
        },
        "id": "v1oD1CE0sh54",
        "outputId": "11ddacf6-fed0-42cc-f771-839f277f40c8"
      },
      "execution_count": null,
      "outputs": [
        {
          "output_type": "execute_result",
          "data": {
            "text/plain": [
              "1.0"
            ]
          },
          "metadata": {},
          "execution_count": 211
        }
      ]
    },
    {
      "cell_type": "code",
      "source": [
        "# x_test에 넣기: 예측\n",
        "y_result = model.predict(x_test)\n",
        "y_result_prob = model.predict_proba(x_test)\n",
        "y_result_prob"
      ],
      "metadata": {
        "colab": {
          "base_uri": "https://localhost:8080/"
        },
        "id": "Q-BWyyav1hWd",
        "outputId": "44b68e7a-76e7-4fe3-d317-459e1218ac93"
      },
      "execution_count": null,
      "outputs": [
        {
          "output_type": "execute_result",
          "data": {
            "text/plain": [
              "array([[0.  , 1.  ],\n",
              "       [0.  , 1.  ],\n",
              "       [0.  , 1.  ],\n",
              "       [1.  , 0.  ],\n",
              "       [0.05, 0.95],\n",
              "       [0.  , 1.  ],\n",
              "       [0.  , 1.  ],\n",
              "       [1.  , 0.  ],\n",
              "       [0.  , 1.  ],\n",
              "       [1.  , 0.  ],\n",
              "       [0.05, 0.95],\n",
              "       [1.  , 0.  ],\n",
              "       [0.  , 1.  ],\n",
              "       [0.09, 0.91],\n",
              "       [1.  , 0.  ],\n",
              "       [0.  , 1.  ],\n",
              "       [0.01, 0.99],\n",
              "       [1.  , 0.  ],\n",
              "       [0.  , 1.  ],\n",
              "       [0.  , 1.  ],\n",
              "       [0.  , 1.  ],\n",
              "       [1.  , 0.  ],\n",
              "       [1.  , 0.  ],\n",
              "       [0.  , 1.  ],\n",
              "       [0.02, 0.98],\n",
              "       [1.  , 0.  ],\n",
              "       [0.  , 1.  ],\n",
              "       [1.  , 0.  ],\n",
              "       [0.  , 1.  ],\n",
              "       [0.  , 1.  ]])"
            ]
          },
          "metadata": {},
          "execution_count": 215
        }
      ]
    },
    {
      "cell_type": "code",
      "source": [
        "pd.DataFrame({'result': y_result }).to_csv('수험번호.csv', index=False)\n",
        "# check = pd.read_csv('수험번호.csv')\n",
        "# print(check)"
      ],
      "metadata": {
        "id": "blm6w0SH2EPC"
      },
      "execution_count": null,
      "outputs": []
    },
    {
      "cell_type": "markdown",
      "source": [
        "\n",
        "\n",
        "---\n",
        "\n"
      ],
      "metadata": {
        "id": "sviNsnVcZ-4g"
      }
    },
    {
      "cell_type": "markdown",
      "source": [
        "###3. 타이타닉 생존자 분류"
      ],
      "metadata": {
        "id": "AUyX4deKbb2Z"
      }
    },
    {
      "cell_type": "code",
      "source": [
        "###############  복사 영역  ###############\n",
        "# 실기 시험 데이터셋으로 셋팅하기 (수정금지)\n",
        "\n",
        "# Seaborn의 내장 타이타닉 데이터셋을 불러옵니다.\n",
        "import seaborn as sns\n",
        "df = sns.load_dataset('titanic')\n",
        "\n",
        "x = df.drop('survived', axis=1)\n",
        "y = df['survived']\n",
        "\n",
        "# 실기 시험 데이터셋으로 셋팅하기 (수정금지)\n",
        "from sklearn.model_selection import train_test_split\n",
        "x_train, x_test, y_train, y_test = train_test_split(x, y, test_size=0.2,\n",
        "                                                    stratify=y,\n",
        "                                                    random_state=2023)\n",
        "\n",
        "x_test = pd.DataFrame(x_test)\n",
        "x_train = pd.DataFrame(x_train)\n",
        "y_train = pd.DataFrame(y_train)\n",
        "y_test = pd.DataFrame(y_test) # 평가용\n",
        "\n",
        "x_test.reset_index()\n",
        "y_train.columns = ['target']\n",
        "y_test.columns = ['target']\n",
        "###############  복사 영역  ###############"
      ],
      "metadata": {
        "id": "e17xKVxsZ8Ba"
      },
      "execution_count": null,
      "outputs": []
    },
    {
      "cell_type": "markdown",
      "source": [
        "#### \b타이타닉 생존자 예측 문제 <br/> - 데이터의 결측치, 이상치에 대해 처리하고 <br/> - 분류모델을 사용하여 정확도, F1 score, AUC값을 산출하시오. <br/> - 제출은 result 변수에 담아 양식에 맞게 제출하시오. <br/> ex) 양식 예시: pd.DataFrame({'result': y_result }).to_csv('수험번호.csv, index=False)"
      ],
      "metadata": {
        "id": "pi0BazEXboYL"
      }
    },
    {
      "cell_type": "code",
      "source": [
        "# 데이터 확인하기\n",
        "# x_test.info()\n",
        "\n",
        "# 결측치 존재: deck는 결측치가 너무 많음\n",
        "# 중복 데이터 존재: alive, class, who, embarked_town\n",
        "x_test = x_test.drop(columns=['deck','alive','class','who','embark_town'])\n",
        "x_train = x_train.drop(columns=['deck','alive','class','who','embark_town'])"
      ],
      "metadata": {
        "id": "W-KrsTshdTF5"
      },
      "execution_count": null,
      "outputs": []
    },
    {
      "cell_type": "code",
      "source": [
        "# 결측치 확인 후 median 값으로 변경\n",
        "x_test.isnull().sum()\n",
        "age_median = x_test['age'].median()\n",
        "\n",
        "x_train['age'] = x_train['age'].fillna(age_median)\n",
        "x_test['age'] = x_test['age'].fillna(age_median)\n",
        "\n",
        "# 범주형데이터 더미변수로 변경\n",
        "x_test = pd.get_dummies(x_test)\n",
        "x_train = pd.get_dummies(x_train)"
      ],
      "metadata": {
        "id": "HtcOmiEh34Ec"
      },
      "execution_count": null,
      "outputs": []
    },
    {
      "cell_type": "code",
      "source": [
        "from sklearn.model_selection import train_test_split\n",
        "\n",
        "X_TRAIN, x_val, Y_TRAIN, y_val = train_test_split(\n",
        "    x_train,\n",
        "    y_train['target'],\n",
        "    test_size=0.2,\n",
        "    random_state=2023,\n",
        "    stratify=y_train['target']\n",
        ")"
      ],
      "metadata": {
        "id": "32q9JHyG45gz"
      },
      "execution_count": null,
      "outputs": []
    },
    {
      "cell_type": "code",
      "source": [
        "# 모델링\n",
        "from sklearn.ensemble import RandomForestClassifier\n",
        "\n",
        "model = RandomForestClassifier()\n",
        "model.fit(X_TRAIN, Y_TRAIN)\n",
        "\n",
        "# 예측\n",
        "y_pred = model.predict(x_val)\n",
        "\n",
        "# 정확도 테스트\n",
        "from sklearn.metrics import accuracy_score, f1_score, roc_auc_score, confusion_matrix\n",
        "\n",
        "acc = accuracy_score(y_val, y_pred)\n",
        "print('acc', acc)\n",
        "\n",
        "f1 = f1_score(y_val, y_pred)\n",
        "print('f1',f1)\n",
        "\n",
        "roc = roc_auc_score(y_val, y_pred)\n",
        "print('roc',roc)\n",
        "\n",
        "cm = confusion_matrix(y_val, y_pred)\n",
        "cm"
      ],
      "metadata": {
        "colab": {
          "base_uri": "https://localhost:8080/"
        },
        "id": "95e4cDxF4rdZ",
        "outputId": "fba72741-ede4-4434-bc28-52129e3c232c"
      },
      "execution_count": null,
      "outputs": [
        {
          "output_type": "stream",
          "name": "stdout",
          "text": [
            "acc 0.8391608391608392\n",
            "f1 0.7889908256880734\n",
            "roc 0.8284090909090909\n"
          ]
        },
        {
          "output_type": "execute_result",
          "data": {
            "text/plain": [
              "array([[77, 11],\n",
              "       [12, 43]])"
            ]
          },
          "metadata": {},
          "execution_count": 268
        }
      ]
    },
    {
      "cell_type": "code",
      "source": [
        "# x-test에 적용\n",
        "y_result = model.predict(x_test)\n",
        "pd.DataFrame({'result': y_result }).to_csv('수험번호.csv', index=False)\n",
        "# check = pd.read_csv('수험번호.csv')\n",
        "# print(check)\n",
        "\n",
        "from sklearn.metrics import accuracy_score, f1_score, roc_auc_score, confusion_matrix\n",
        "acc_pred_f = accuracy_score(y_test, y_result)\n",
        "acc_pred_f\n",
        "\n",
        "f1_pred_f = f1_score(y_test, y_result)\n",
        "f1_pred_f\n",
        "\n",
        "roc_pred_f = roc_auc_score(y_test, y_result)\n",
        "roc_pred_f"
      ],
      "metadata": {
        "colab": {
          "base_uri": "https://localhost:8080/"
        },
        "id": "E4D3-UMo6zEl",
        "outputId": "3631ebac-4f13-47bf-e17d-6b092f4c974f"
      },
      "execution_count": null,
      "outputs": [
        {
          "output_type": "execute_result",
          "data": {
            "text/plain": [
              "0.7587615283267457"
            ]
          },
          "metadata": {},
          "execution_count": 273
        }
      ]
    },
    {
      "cell_type": "markdown",
      "source": [
        "\n",
        "\n",
        "---\n",
        "\n"
      ],
      "metadata": {
        "id": "KNSrOEfkbzbu"
      }
    },
    {
      "cell_type": "markdown",
      "source": [
        "### 4. 당뇨진척정도 (회귀)"
      ],
      "metadata": {
        "id": "wbj7883bcDz3"
      }
    },
    {
      "cell_type": "code",
      "source": [
        "###############  실기환경 복사 영역  ###############\n",
        "import pandas as pd\n",
        "import numpy as np\n",
        "# 실기 시험 데이터셋으로 셋팅하기 (수정금지)\n",
        "from sklearn.datasets import load_diabetes\n",
        "# diabetes 데이터셋 로드\n",
        "diabetes = load_diabetes()\n",
        "x = pd.DataFrame(diabetes.data, columns=diabetes.feature_names)\n",
        "y = pd.DataFrame(diabetes.target)\n",
        "\n",
        "# 실기 시험 데이터셋으로 셋팅하기 (수정금지)\n",
        "from sklearn.model_selection import train_test_split\n",
        "x_train, x_test, y_train, y_test = train_test_split(x, y, test_size=0.2,\n",
        "                                                    random_state=2023)\n",
        "\n",
        "x_test = pd.DataFrame(x_test.reset_index())\n",
        "x_train = pd.DataFrame(x_train.reset_index())\n",
        "y_train = pd.DataFrame(y_train.reset_index())\n",
        "\n",
        "x_test.rename(columns={'index':'cust_id'}, inplace=True)\n",
        "x_train.rename(columns={'index':'cust_id'}, inplace=True)\n",
        "y_train.columns = ['cust_id', 'target']\n",
        "###############  실기환경 복사 영역  ###############"
      ],
      "metadata": {
        "id": "wnQNh4TgcKgv"
      },
      "execution_count": null,
      "outputs": []
    },
    {
      "cell_type": "markdown",
      "source": [
        "#### 당뇨병 환자의 질병 진행정도를 예측해보자. <br/> - 데이터의 결측치, 이상치에 대해 처리하고 <br/> - 회귀모델을 사용하여 Rsq, MSE 값을 산출하시오. <br/> - 제출은 cust_id, target 변수를 가진 dataframe 형태로 제출하시오."
      ],
      "metadata": {
        "id": "JtwU3zmBcJUb"
      }
    },
    {
      "cell_type": "code",
      "source": [
        "# 데이터탐색(EDA)\n",
        "# x_test.info()\n",
        "# x_train.info()\n",
        "# y_train.info()\n",
        "\n",
        "print(x_train.shape)\n",
        "print(x_test.shape)\n",
        "print(y_train.shape)\n",
        "y_train.head(5) #cust_id, target존재 -> cust_id는 불필요하므로 카피 떠놓고 제거\n",
        "\n",
        "# 결측치 확인 : 없음\n",
        "# print(x_train.isnull().sum())\n",
        "# print(x_test.isnull().sum())\n",
        "# print(y_train.isnull().sum())\n",
        "\n",
        "# 이상치 확인\n",
        "# x_train.describe()\n",
        "\n",
        "cust_id = x_test['cust_id'].copy()\n",
        "\n",
        "x_train = x_train.drop(columns=['cust_id'])\n",
        "x_test = x_test.drop(columns=['cust_id'])"
      ],
      "metadata": {
        "id": "5Dpg3DECdT49",
        "colab": {
          "base_uri": "https://localhost:8080/"
        },
        "outputId": "9ea3856a-9719-498b-f290-32a281a80981"
      },
      "execution_count": null,
      "outputs": [
        {
          "output_type": "stream",
          "name": "stdout",
          "text": [
            "(353, 11)\n",
            "(89, 11)\n",
            "(353, 2)\n"
          ]
        }
      ]
    },
    {
      "cell_type": "code",
      "source": [
        "# 데이터 나누기\n",
        "from sklearn.model_selection import train_test_split\n",
        "\n",
        "X_TRAIN, x_val, Y_TRAIN, y_val = train_test_split(\n",
        "    x_train,\n",
        "    y_train['target'],\n",
        "    random_state=66,\n",
        "    test_size=0.2\n",
        ")"
      ],
      "metadata": {
        "id": "KZq4fi5z9TR4"
      },
      "execution_count": null,
      "outputs": []
    },
    {
      "cell_type": "code",
      "source": [
        "# 모델링\n",
        "from sklearn.ensemble import RandomForestRegressor\n",
        "\n",
        "model = RandomForestRegressor(random_state=2023)\n",
        "model.fit(X_TRAIN, Y_TRAIN)\n",
        "\n",
        "y_pred = model.predict(x_val)\n",
        "\n",
        "# 정확도 테스트\n",
        "from sklearn.metrics import r2_score, mean_squared_error\n",
        "\n",
        "r2 = r2_score(y_val, y_pred)\n",
        "print('r2',r2)\n",
        "\n",
        "mse = mean_squared_error(y_val, y_pred)\n",
        "print('mse',mse)"
      ],
      "metadata": {
        "colab": {
          "base_uri": "https://localhost:8080/"
        },
        "id": "yBImzvZ1_MGy",
        "outputId": "65da619f-d88c-4003-8f9f-4133b23db8ee"
      },
      "execution_count": null,
      "outputs": [
        {
          "output_type": "stream",
          "name": "stdout",
          "text": [
            "r2 0.5445622216838756\n",
            "mse 2938.386609859155\n"
          ]
        }
      ]
    },
    {
      "cell_type": "code",
      "source": [
        "y_result = model.predict(x_test)\n",
        "result = pd.DataFrame({\n",
        "    'cust_id': cust_id,\n",
        "    'target': y_result\n",
        "})\n",
        "result\n",
        "\n",
        "pd.DataFrame({'result': y_result}).to_csv('수험번호.csv', index=False)\n",
        "# check = pd.read_csv('수험번호.csv')\n",
        "# print(check)"
      ],
      "metadata": {
        "colab": {
          "base_uri": "https://localhost:8080/",
          "height": 423
        },
        "id": "ZOjkLOJoB413",
        "outputId": "a663fb7d-da83-4b02-d7ad-a8ee68cea669"
      },
      "execution_count": null,
      "outputs": [
        {
          "output_type": "execute_result",
          "data": {
            "text/plain": [
              "    cust_id  target\n",
              "0       280  185.92\n",
              "1       412  216.96\n",
              "2        68   82.22\n",
              "3       324  179.69\n",
              "4       101   90.62\n",
              "..      ...     ...\n",
              "84       80  182.40\n",
              "85      395  171.05\n",
              "86      331   99.82\n",
              "87      361  104.98\n",
              "88      257  129.04\n",
              "\n",
              "[89 rows x 2 columns]"
            ],
            "text/html": [
              "\n",
              "  <div id=\"df-576ed677-8664-459a-9c20-98b4603c1693\" class=\"colab-df-container\">\n",
              "    <div>\n",
              "<style scoped>\n",
              "    .dataframe tbody tr th:only-of-type {\n",
              "        vertical-align: middle;\n",
              "    }\n",
              "\n",
              "    .dataframe tbody tr th {\n",
              "        vertical-align: top;\n",
              "    }\n",
              "\n",
              "    .dataframe thead th {\n",
              "        text-align: right;\n",
              "    }\n",
              "</style>\n",
              "<table border=\"1\" class=\"dataframe\">\n",
              "  <thead>\n",
              "    <tr style=\"text-align: right;\">\n",
              "      <th></th>\n",
              "      <th>cust_id</th>\n",
              "      <th>target</th>\n",
              "    </tr>\n",
              "  </thead>\n",
              "  <tbody>\n",
              "    <tr>\n",
              "      <th>0</th>\n",
              "      <td>280</td>\n",
              "      <td>185.92</td>\n",
              "    </tr>\n",
              "    <tr>\n",
              "      <th>1</th>\n",
              "      <td>412</td>\n",
              "      <td>216.96</td>\n",
              "    </tr>\n",
              "    <tr>\n",
              "      <th>2</th>\n",
              "      <td>68</td>\n",
              "      <td>82.22</td>\n",
              "    </tr>\n",
              "    <tr>\n",
              "      <th>3</th>\n",
              "      <td>324</td>\n",
              "      <td>179.69</td>\n",
              "    </tr>\n",
              "    <tr>\n",
              "      <th>4</th>\n",
              "      <td>101</td>\n",
              "      <td>90.62</td>\n",
              "    </tr>\n",
              "    <tr>\n",
              "      <th>...</th>\n",
              "      <td>...</td>\n",
              "      <td>...</td>\n",
              "    </tr>\n",
              "    <tr>\n",
              "      <th>84</th>\n",
              "      <td>80</td>\n",
              "      <td>182.40</td>\n",
              "    </tr>\n",
              "    <tr>\n",
              "      <th>85</th>\n",
              "      <td>395</td>\n",
              "      <td>171.05</td>\n",
              "    </tr>\n",
              "    <tr>\n",
              "      <th>86</th>\n",
              "      <td>331</td>\n",
              "      <td>99.82</td>\n",
              "    </tr>\n",
              "    <tr>\n",
              "      <th>87</th>\n",
              "      <td>361</td>\n",
              "      <td>104.98</td>\n",
              "    </tr>\n",
              "    <tr>\n",
              "      <th>88</th>\n",
              "      <td>257</td>\n",
              "      <td>129.04</td>\n",
              "    </tr>\n",
              "  </tbody>\n",
              "</table>\n",
              "<p>89 rows × 2 columns</p>\n",
              "</div>\n",
              "    <div class=\"colab-df-buttons\">\n",
              "\n",
              "  <div class=\"colab-df-container\">\n",
              "    <button class=\"colab-df-convert\" onclick=\"convertToInteractive('df-576ed677-8664-459a-9c20-98b4603c1693')\"\n",
              "            title=\"Convert this dataframe to an interactive table.\"\n",
              "            style=\"display:none;\">\n",
              "\n",
              "  <svg xmlns=\"http://www.w3.org/2000/svg\" height=\"24px\" viewBox=\"0 -960 960 960\">\n",
              "    <path d=\"M120-120v-720h720v720H120Zm60-500h600v-160H180v160Zm220 220h160v-160H400v160Zm0 220h160v-160H400v160ZM180-400h160v-160H180v160Zm440 0h160v-160H620v160ZM180-180h160v-160H180v160Zm440 0h160v-160H620v160Z\"/>\n",
              "  </svg>\n",
              "    </button>\n",
              "\n",
              "  <style>\n",
              "    .colab-df-container {\n",
              "      display:flex;\n",
              "      gap: 12px;\n",
              "    }\n",
              "\n",
              "    .colab-df-convert {\n",
              "      background-color: #E8F0FE;\n",
              "      border: none;\n",
              "      border-radius: 50%;\n",
              "      cursor: pointer;\n",
              "      display: none;\n",
              "      fill: #1967D2;\n",
              "      height: 32px;\n",
              "      padding: 0 0 0 0;\n",
              "      width: 32px;\n",
              "    }\n",
              "\n",
              "    .colab-df-convert:hover {\n",
              "      background-color: #E2EBFA;\n",
              "      box-shadow: 0px 1px 2px rgba(60, 64, 67, 0.3), 0px 1px 3px 1px rgba(60, 64, 67, 0.15);\n",
              "      fill: #174EA6;\n",
              "    }\n",
              "\n",
              "    .colab-df-buttons div {\n",
              "      margin-bottom: 4px;\n",
              "    }\n",
              "\n",
              "    [theme=dark] .colab-df-convert {\n",
              "      background-color: #3B4455;\n",
              "      fill: #D2E3FC;\n",
              "    }\n",
              "\n",
              "    [theme=dark] .colab-df-convert:hover {\n",
              "      background-color: #434B5C;\n",
              "      box-shadow: 0px 1px 3px 1px rgba(0, 0, 0, 0.15);\n",
              "      filter: drop-shadow(0px 1px 2px rgba(0, 0, 0, 0.3));\n",
              "      fill: #FFFFFF;\n",
              "    }\n",
              "  </style>\n",
              "\n",
              "    <script>\n",
              "      const buttonEl =\n",
              "        document.querySelector('#df-576ed677-8664-459a-9c20-98b4603c1693 button.colab-df-convert');\n",
              "      buttonEl.style.display =\n",
              "        google.colab.kernel.accessAllowed ? 'block' : 'none';\n",
              "\n",
              "      async function convertToInteractive(key) {\n",
              "        const element = document.querySelector('#df-576ed677-8664-459a-9c20-98b4603c1693');\n",
              "        const dataTable =\n",
              "          await google.colab.kernel.invokeFunction('convertToInteractive',\n",
              "                                                    [key], {});\n",
              "        if (!dataTable) return;\n",
              "\n",
              "        const docLinkHtml = 'Like what you see? Visit the ' +\n",
              "          '<a target=\"_blank\" href=https://colab.research.google.com/notebooks/data_table.ipynb>data table notebook</a>'\n",
              "          + ' to learn more about interactive tables.';\n",
              "        element.innerHTML = '';\n",
              "        dataTable['output_type'] = 'display_data';\n",
              "        await google.colab.output.renderOutput(dataTable, element);\n",
              "        const docLink = document.createElement('div');\n",
              "        docLink.innerHTML = docLinkHtml;\n",
              "        element.appendChild(docLink);\n",
              "      }\n",
              "    </script>\n",
              "  </div>\n",
              "\n",
              "\n",
              "<div id=\"df-611d3245-5c25-4ff5-9dec-caf1278446e0\">\n",
              "  <button class=\"colab-df-quickchart\" onclick=\"quickchart('df-611d3245-5c25-4ff5-9dec-caf1278446e0')\"\n",
              "            title=\"Suggest charts\"\n",
              "            style=\"display:none;\">\n",
              "\n",
              "<svg xmlns=\"http://www.w3.org/2000/svg\" height=\"24px\"viewBox=\"0 0 24 24\"\n",
              "     width=\"24px\">\n",
              "    <g>\n",
              "        <path d=\"M19 3H5c-1.1 0-2 .9-2 2v14c0 1.1.9 2 2 2h14c1.1 0 2-.9 2-2V5c0-1.1-.9-2-2-2zM9 17H7v-7h2v7zm4 0h-2V7h2v10zm4 0h-2v-4h2v4z\"/>\n",
              "    </g>\n",
              "</svg>\n",
              "  </button>\n",
              "\n",
              "<style>\n",
              "  .colab-df-quickchart {\n",
              "      --bg-color: #E8F0FE;\n",
              "      --fill-color: #1967D2;\n",
              "      --hover-bg-color: #E2EBFA;\n",
              "      --hover-fill-color: #174EA6;\n",
              "      --disabled-fill-color: #AAA;\n",
              "      --disabled-bg-color: #DDD;\n",
              "  }\n",
              "\n",
              "  [theme=dark] .colab-df-quickchart {\n",
              "      --bg-color: #3B4455;\n",
              "      --fill-color: #D2E3FC;\n",
              "      --hover-bg-color: #434B5C;\n",
              "      --hover-fill-color: #FFFFFF;\n",
              "      --disabled-bg-color: #3B4455;\n",
              "      --disabled-fill-color: #666;\n",
              "  }\n",
              "\n",
              "  .colab-df-quickchart {\n",
              "    background-color: var(--bg-color);\n",
              "    border: none;\n",
              "    border-radius: 50%;\n",
              "    cursor: pointer;\n",
              "    display: none;\n",
              "    fill: var(--fill-color);\n",
              "    height: 32px;\n",
              "    padding: 0;\n",
              "    width: 32px;\n",
              "  }\n",
              "\n",
              "  .colab-df-quickchart:hover {\n",
              "    background-color: var(--hover-bg-color);\n",
              "    box-shadow: 0 1px 2px rgba(60, 64, 67, 0.3), 0 1px 3px 1px rgba(60, 64, 67, 0.15);\n",
              "    fill: var(--button-hover-fill-color);\n",
              "  }\n",
              "\n",
              "  .colab-df-quickchart-complete:disabled,\n",
              "  .colab-df-quickchart-complete:disabled:hover {\n",
              "    background-color: var(--disabled-bg-color);\n",
              "    fill: var(--disabled-fill-color);\n",
              "    box-shadow: none;\n",
              "  }\n",
              "\n",
              "  .colab-df-spinner {\n",
              "    border: 2px solid var(--fill-color);\n",
              "    border-color: transparent;\n",
              "    border-bottom-color: var(--fill-color);\n",
              "    animation:\n",
              "      spin 1s steps(1) infinite;\n",
              "  }\n",
              "\n",
              "  @keyframes spin {\n",
              "    0% {\n",
              "      border-color: transparent;\n",
              "      border-bottom-color: var(--fill-color);\n",
              "      border-left-color: var(--fill-color);\n",
              "    }\n",
              "    20% {\n",
              "      border-color: transparent;\n",
              "      border-left-color: var(--fill-color);\n",
              "      border-top-color: var(--fill-color);\n",
              "    }\n",
              "    30% {\n",
              "      border-color: transparent;\n",
              "      border-left-color: var(--fill-color);\n",
              "      border-top-color: var(--fill-color);\n",
              "      border-right-color: var(--fill-color);\n",
              "    }\n",
              "    40% {\n",
              "      border-color: transparent;\n",
              "      border-right-color: var(--fill-color);\n",
              "      border-top-color: var(--fill-color);\n",
              "    }\n",
              "    60% {\n",
              "      border-color: transparent;\n",
              "      border-right-color: var(--fill-color);\n",
              "    }\n",
              "    80% {\n",
              "      border-color: transparent;\n",
              "      border-right-color: var(--fill-color);\n",
              "      border-bottom-color: var(--fill-color);\n",
              "    }\n",
              "    90% {\n",
              "      border-color: transparent;\n",
              "      border-bottom-color: var(--fill-color);\n",
              "    }\n",
              "  }\n",
              "</style>\n",
              "\n",
              "  <script>\n",
              "    async function quickchart(key) {\n",
              "      const quickchartButtonEl =\n",
              "        document.querySelector('#' + key + ' button');\n",
              "      quickchartButtonEl.disabled = true;  // To prevent multiple clicks.\n",
              "      quickchartButtonEl.classList.add('colab-df-spinner');\n",
              "      try {\n",
              "        const charts = await google.colab.kernel.invokeFunction(\n",
              "            'suggestCharts', [key], {});\n",
              "      } catch (error) {\n",
              "        console.error('Error during call to suggestCharts:', error);\n",
              "      }\n",
              "      quickchartButtonEl.classList.remove('colab-df-spinner');\n",
              "      quickchartButtonEl.classList.add('colab-df-quickchart-complete');\n",
              "    }\n",
              "    (() => {\n",
              "      let quickchartButtonEl =\n",
              "        document.querySelector('#df-611d3245-5c25-4ff5-9dec-caf1278446e0 button');\n",
              "      quickchartButtonEl.style.display =\n",
              "        google.colab.kernel.accessAllowed ? 'block' : 'none';\n",
              "    })();\n",
              "  </script>\n",
              "</div>\n",
              "    </div>\n",
              "  </div>\n"
            ]
          },
          "metadata": {},
          "execution_count": 358
        }
      ]
    },
    {
      "cell_type": "markdown",
      "source": [
        "\n",
        "\n",
        "---\n",
        "\n"
      ],
      "metadata": {
        "id": "mEnzlFofdUNh"
      }
    },
    {
      "cell_type": "markdown",
      "source": [
        "### 5. 팁 예측하기 (회귀)"
      ],
      "metadata": {
        "id": "gR6FqmgLb0fa"
      }
    },
    {
      "cell_type": "code",
      "source": [
        "###############  복사 영역  ###############\n",
        "# 실기 시험 데이터셋으로 셋팅하기 (수정금지)\n",
        "\n",
        "import seaborn as sns\n",
        "# tips 데이터셋 로드\n",
        "df = sns.load_dataset('tips')\n",
        "\n",
        "x = df.drop(['tip'], axis=1)\n",
        "y = df['tip']\n",
        "\n",
        "\n",
        "# 실기 시험 데이터셋으로 셋팅하기 (수정금지)\n",
        "from sklearn.model_selection import train_test_split\n",
        "x_train, x_test, y_train, y_test = train_test_split(x, y, test_size=0.2, random_state=2023)\n",
        "\n",
        "x_test = pd.DataFrame(x_test.reset_index())\n",
        "x_train = pd.DataFrame(x_train.reset_index())\n",
        "y_train = pd.DataFrame(y_train.reset_index())\n",
        "\n",
        "x_test.rename(columns={'index':'cust_id'}, inplace=True)\n",
        "x_train.rename(columns={'index':'cust_id'}, inplace=True)\n",
        "y_train.columns = ['cust_id', 'target']"
      ],
      "metadata": {
        "id": "smdwooxAb8hu"
      },
      "execution_count": null,
      "outputs": []
    },
    {
      "cell_type": "markdown",
      "source": [
        "#### 레스토랑의 tip 예측 문제 <br/> - 데이터의 결측치, 이상치, 변수에 대해 처리하고 <br/> - 회귀모델을 사용하여 Rsq, MSE 값을 산출하시오."
      ],
      "metadata": {
        "id": "7-bzdKBdbmYC"
      }
    },
    {
      "cell_type": "code",
      "source": [
        "x_train.info() #범주형 처리 필요\n",
        "x_test.info()\n",
        "y_train.info() #cust_id, target 존재\n",
        "x_train.describe(include='category')"
      ],
      "metadata": {
        "colab": {
          "base_uri": "https://localhost:8080/",
          "height": 837
        },
        "id": "Bm_gBaRqDu0v",
        "outputId": "6efb3fad-31fe-4111-c050-85d62ecf89b1"
      },
      "execution_count": null,
      "outputs": [
        {
          "output_type": "stream",
          "name": "stdout",
          "text": [
            "<class 'pandas.core.frame.DataFrame'>\n",
            "RangeIndex: 195 entries, 0 to 194\n",
            "Data columns (total 7 columns):\n",
            " #   Column      Non-Null Count  Dtype   \n",
            "---  ------      --------------  -----   \n",
            " 0   cust_id     195 non-null    int64   \n",
            " 1   total_bill  195 non-null    float64 \n",
            " 2   sex         195 non-null    category\n",
            " 3   smoker      195 non-null    category\n",
            " 4   day         195 non-null    category\n",
            " 5   time        195 non-null    category\n",
            " 6   size        195 non-null    int64   \n",
            "dtypes: category(4), float64(1), int64(2)\n",
            "memory usage: 6.0 KB\n",
            "<class 'pandas.core.frame.DataFrame'>\n",
            "RangeIndex: 49 entries, 0 to 48\n",
            "Data columns (total 7 columns):\n",
            " #   Column      Non-Null Count  Dtype   \n",
            "---  ------      --------------  -----   \n",
            " 0   cust_id     49 non-null     int64   \n",
            " 1   total_bill  49 non-null     float64 \n",
            " 2   sex         49 non-null     category\n",
            " 3   smoker      49 non-null     category\n",
            " 4   day         49 non-null     category\n",
            " 5   time        49 non-null     category\n",
            " 6   size        49 non-null     int64   \n",
            "dtypes: category(4), float64(1), int64(2)\n",
            "memory usage: 2.0 KB\n",
            "<class 'pandas.core.frame.DataFrame'>\n",
            "RangeIndex: 195 entries, 0 to 194\n",
            "Data columns (total 2 columns):\n",
            " #   Column   Non-Null Count  Dtype  \n",
            "---  ------   --------------  -----  \n",
            " 0   cust_id  195 non-null    int64  \n",
            " 1   target   195 non-null    float64\n",
            "dtypes: float64(1), int64(1)\n",
            "memory usage: 3.2 KB\n"
          ]
        },
        {
          "output_type": "execute_result",
          "data": {
            "text/plain": [
              "         sex smoker  day    time\n",
              "count    195    195  195     195\n",
              "unique     2      2    4       2\n",
              "top     Male     No  Sat  Dinner\n",
              "freq     125    120   71     142"
            ],
            "text/html": [
              "\n",
              "  <div id=\"df-7bd4a763-84b5-42fa-903e-18d8fc8a65d1\" class=\"colab-df-container\">\n",
              "    <div>\n",
              "<style scoped>\n",
              "    .dataframe tbody tr th:only-of-type {\n",
              "        vertical-align: middle;\n",
              "    }\n",
              "\n",
              "    .dataframe tbody tr th {\n",
              "        vertical-align: top;\n",
              "    }\n",
              "\n",
              "    .dataframe thead th {\n",
              "        text-align: right;\n",
              "    }\n",
              "</style>\n",
              "<table border=\"1\" class=\"dataframe\">\n",
              "  <thead>\n",
              "    <tr style=\"text-align: right;\">\n",
              "      <th></th>\n",
              "      <th>sex</th>\n",
              "      <th>smoker</th>\n",
              "      <th>day</th>\n",
              "      <th>time</th>\n",
              "    </tr>\n",
              "  </thead>\n",
              "  <tbody>\n",
              "    <tr>\n",
              "      <th>count</th>\n",
              "      <td>195</td>\n",
              "      <td>195</td>\n",
              "      <td>195</td>\n",
              "      <td>195</td>\n",
              "    </tr>\n",
              "    <tr>\n",
              "      <th>unique</th>\n",
              "      <td>2</td>\n",
              "      <td>2</td>\n",
              "      <td>4</td>\n",
              "      <td>2</td>\n",
              "    </tr>\n",
              "    <tr>\n",
              "      <th>top</th>\n",
              "      <td>Male</td>\n",
              "      <td>No</td>\n",
              "      <td>Sat</td>\n",
              "      <td>Dinner</td>\n",
              "    </tr>\n",
              "    <tr>\n",
              "      <th>freq</th>\n",
              "      <td>125</td>\n",
              "      <td>120</td>\n",
              "      <td>71</td>\n",
              "      <td>142</td>\n",
              "    </tr>\n",
              "  </tbody>\n",
              "</table>\n",
              "</div>\n",
              "    <div class=\"colab-df-buttons\">\n",
              "\n",
              "  <div class=\"colab-df-container\">\n",
              "    <button class=\"colab-df-convert\" onclick=\"convertToInteractive('df-7bd4a763-84b5-42fa-903e-18d8fc8a65d1')\"\n",
              "            title=\"Convert this dataframe to an interactive table.\"\n",
              "            style=\"display:none;\">\n",
              "\n",
              "  <svg xmlns=\"http://www.w3.org/2000/svg\" height=\"24px\" viewBox=\"0 -960 960 960\">\n",
              "    <path d=\"M120-120v-720h720v720H120Zm60-500h600v-160H180v160Zm220 220h160v-160H400v160Zm0 220h160v-160H400v160ZM180-400h160v-160H180v160Zm440 0h160v-160H620v160ZM180-180h160v-160H180v160Zm440 0h160v-160H620v160Z\"/>\n",
              "  </svg>\n",
              "    </button>\n",
              "\n",
              "  <style>\n",
              "    .colab-df-container {\n",
              "      display:flex;\n",
              "      gap: 12px;\n",
              "    }\n",
              "\n",
              "    .colab-df-convert {\n",
              "      background-color: #E8F0FE;\n",
              "      border: none;\n",
              "      border-radius: 50%;\n",
              "      cursor: pointer;\n",
              "      display: none;\n",
              "      fill: #1967D2;\n",
              "      height: 32px;\n",
              "      padding: 0 0 0 0;\n",
              "      width: 32px;\n",
              "    }\n",
              "\n",
              "    .colab-df-convert:hover {\n",
              "      background-color: #E2EBFA;\n",
              "      box-shadow: 0px 1px 2px rgba(60, 64, 67, 0.3), 0px 1px 3px 1px rgba(60, 64, 67, 0.15);\n",
              "      fill: #174EA6;\n",
              "    }\n",
              "\n",
              "    .colab-df-buttons div {\n",
              "      margin-bottom: 4px;\n",
              "    }\n",
              "\n",
              "    [theme=dark] .colab-df-convert {\n",
              "      background-color: #3B4455;\n",
              "      fill: #D2E3FC;\n",
              "    }\n",
              "\n",
              "    [theme=dark] .colab-df-convert:hover {\n",
              "      background-color: #434B5C;\n",
              "      box-shadow: 0px 1px 3px 1px rgba(0, 0, 0, 0.15);\n",
              "      filter: drop-shadow(0px 1px 2px rgba(0, 0, 0, 0.3));\n",
              "      fill: #FFFFFF;\n",
              "    }\n",
              "  </style>\n",
              "\n",
              "    <script>\n",
              "      const buttonEl =\n",
              "        document.querySelector('#df-7bd4a763-84b5-42fa-903e-18d8fc8a65d1 button.colab-df-convert');\n",
              "      buttonEl.style.display =\n",
              "        google.colab.kernel.accessAllowed ? 'block' : 'none';\n",
              "\n",
              "      async function convertToInteractive(key) {\n",
              "        const element = document.querySelector('#df-7bd4a763-84b5-42fa-903e-18d8fc8a65d1');\n",
              "        const dataTable =\n",
              "          await google.colab.kernel.invokeFunction('convertToInteractive',\n",
              "                                                    [key], {});\n",
              "        if (!dataTable) return;\n",
              "\n",
              "        const docLinkHtml = 'Like what you see? Visit the ' +\n",
              "          '<a target=\"_blank\" href=https://colab.research.google.com/notebooks/data_table.ipynb>data table notebook</a>'\n",
              "          + ' to learn more about interactive tables.';\n",
              "        element.innerHTML = '';\n",
              "        dataTable['output_type'] = 'display_data';\n",
              "        await google.colab.output.renderOutput(dataTable, element);\n",
              "        const docLink = document.createElement('div');\n",
              "        docLink.innerHTML = docLinkHtml;\n",
              "        element.appendChild(docLink);\n",
              "      }\n",
              "    </script>\n",
              "  </div>\n",
              "\n",
              "\n",
              "<div id=\"df-5845ba5f-2db1-4bac-accf-0501025bb0ec\">\n",
              "  <button class=\"colab-df-quickchart\" onclick=\"quickchart('df-5845ba5f-2db1-4bac-accf-0501025bb0ec')\"\n",
              "            title=\"Suggest charts\"\n",
              "            style=\"display:none;\">\n",
              "\n",
              "<svg xmlns=\"http://www.w3.org/2000/svg\" height=\"24px\"viewBox=\"0 0 24 24\"\n",
              "     width=\"24px\">\n",
              "    <g>\n",
              "        <path d=\"M19 3H5c-1.1 0-2 .9-2 2v14c0 1.1.9 2 2 2h14c1.1 0 2-.9 2-2V5c0-1.1-.9-2-2-2zM9 17H7v-7h2v7zm4 0h-2V7h2v10zm4 0h-2v-4h2v4z\"/>\n",
              "    </g>\n",
              "</svg>\n",
              "  </button>\n",
              "\n",
              "<style>\n",
              "  .colab-df-quickchart {\n",
              "      --bg-color: #E8F0FE;\n",
              "      --fill-color: #1967D2;\n",
              "      --hover-bg-color: #E2EBFA;\n",
              "      --hover-fill-color: #174EA6;\n",
              "      --disabled-fill-color: #AAA;\n",
              "      --disabled-bg-color: #DDD;\n",
              "  }\n",
              "\n",
              "  [theme=dark] .colab-df-quickchart {\n",
              "      --bg-color: #3B4455;\n",
              "      --fill-color: #D2E3FC;\n",
              "      --hover-bg-color: #434B5C;\n",
              "      --hover-fill-color: #FFFFFF;\n",
              "      --disabled-bg-color: #3B4455;\n",
              "      --disabled-fill-color: #666;\n",
              "  }\n",
              "\n",
              "  .colab-df-quickchart {\n",
              "    background-color: var(--bg-color);\n",
              "    border: none;\n",
              "    border-radius: 50%;\n",
              "    cursor: pointer;\n",
              "    display: none;\n",
              "    fill: var(--fill-color);\n",
              "    height: 32px;\n",
              "    padding: 0;\n",
              "    width: 32px;\n",
              "  }\n",
              "\n",
              "  .colab-df-quickchart:hover {\n",
              "    background-color: var(--hover-bg-color);\n",
              "    box-shadow: 0 1px 2px rgba(60, 64, 67, 0.3), 0 1px 3px 1px rgba(60, 64, 67, 0.15);\n",
              "    fill: var(--button-hover-fill-color);\n",
              "  }\n",
              "\n",
              "  .colab-df-quickchart-complete:disabled,\n",
              "  .colab-df-quickchart-complete:disabled:hover {\n",
              "    background-color: var(--disabled-bg-color);\n",
              "    fill: var(--disabled-fill-color);\n",
              "    box-shadow: none;\n",
              "  }\n",
              "\n",
              "  .colab-df-spinner {\n",
              "    border: 2px solid var(--fill-color);\n",
              "    border-color: transparent;\n",
              "    border-bottom-color: var(--fill-color);\n",
              "    animation:\n",
              "      spin 1s steps(1) infinite;\n",
              "  }\n",
              "\n",
              "  @keyframes spin {\n",
              "    0% {\n",
              "      border-color: transparent;\n",
              "      border-bottom-color: var(--fill-color);\n",
              "      border-left-color: var(--fill-color);\n",
              "    }\n",
              "    20% {\n",
              "      border-color: transparent;\n",
              "      border-left-color: var(--fill-color);\n",
              "      border-top-color: var(--fill-color);\n",
              "    }\n",
              "    30% {\n",
              "      border-color: transparent;\n",
              "      border-left-color: var(--fill-color);\n",
              "      border-top-color: var(--fill-color);\n",
              "      border-right-color: var(--fill-color);\n",
              "    }\n",
              "    40% {\n",
              "      border-color: transparent;\n",
              "      border-right-color: var(--fill-color);\n",
              "      border-top-color: var(--fill-color);\n",
              "    }\n",
              "    60% {\n",
              "      border-color: transparent;\n",
              "      border-right-color: var(--fill-color);\n",
              "    }\n",
              "    80% {\n",
              "      border-color: transparent;\n",
              "      border-right-color: var(--fill-color);\n",
              "      border-bottom-color: var(--fill-color);\n",
              "    }\n",
              "    90% {\n",
              "      border-color: transparent;\n",
              "      border-bottom-color: var(--fill-color);\n",
              "    }\n",
              "  }\n",
              "</style>\n",
              "\n",
              "  <script>\n",
              "    async function quickchart(key) {\n",
              "      const quickchartButtonEl =\n",
              "        document.querySelector('#' + key + ' button');\n",
              "      quickchartButtonEl.disabled = true;  // To prevent multiple clicks.\n",
              "      quickchartButtonEl.classList.add('colab-df-spinner');\n",
              "      try {\n",
              "        const charts = await google.colab.kernel.invokeFunction(\n",
              "            'suggestCharts', [key], {});\n",
              "      } catch (error) {\n",
              "        console.error('Error during call to suggestCharts:', error);\n",
              "      }\n",
              "      quickchartButtonEl.classList.remove('colab-df-spinner');\n",
              "      quickchartButtonEl.classList.add('colab-df-quickchart-complete');\n",
              "    }\n",
              "    (() => {\n",
              "      let quickchartButtonEl =\n",
              "        document.querySelector('#df-5845ba5f-2db1-4bac-accf-0501025bb0ec button');\n",
              "      quickchartButtonEl.style.display =\n",
              "        google.colab.kernel.accessAllowed ? 'block' : 'none';\n",
              "    })();\n",
              "  </script>\n",
              "</div>\n",
              "    </div>\n",
              "  </div>\n"
            ]
          },
          "metadata": {},
          "execution_count": 398
        }
      ]
    },
    {
      "cell_type": "code",
      "source": [
        "# cust_id 삭제하고 혹시모르니 복제뜨기\n",
        "cust_id = x_test['cust_id'].copy()\n",
        "\n",
        "x_test = x_test.drop(columns=['cust_id'])\n",
        "x_train = x_train.drop(columns=['cust_id'])\n",
        "\n",
        "# 범주형 처리\n",
        "x_train = pd.get_dummies(x_train)\n",
        "x_test = pd.get_dummies(x_test)"
      ],
      "metadata": {
        "id": "O1SMc8I3dWkz"
      },
      "execution_count": null,
      "outputs": []
    },
    {
      "cell_type": "code",
      "source": [
        "# 결측치 처리\n",
        "print(x_train.isnull().sum())\n",
        "print(x_test.isnull().sum())\n",
        "print(y_train.isnull().sum())"
      ],
      "metadata": {
        "colab": {
          "base_uri": "https://localhost:8080/"
        },
        "id": "DgdW6IAZCmZR",
        "outputId": "411cfcde-83b7-4500-d808-346085e13335"
      },
      "execution_count": null,
      "outputs": [
        {
          "output_type": "stream",
          "name": "stdout",
          "text": [
            "total_bill     0\n",
            "size           0\n",
            "sex_Male       0\n",
            "sex_Female     0\n",
            "smoker_Yes     0\n",
            "smoker_No      0\n",
            "day_Thur       0\n",
            "day_Fri        0\n",
            "day_Sat        0\n",
            "day_Sun        0\n",
            "time_Lunch     0\n",
            "time_Dinner    0\n",
            "dtype: int64\n",
            "total_bill     0\n",
            "size           0\n",
            "sex_Male       0\n",
            "sex_Female     0\n",
            "smoker_Yes     0\n",
            "smoker_No      0\n",
            "day_Thur       0\n",
            "day_Fri        0\n",
            "day_Sat        0\n",
            "day_Sun        0\n",
            "time_Lunch     0\n",
            "time_Dinner    0\n",
            "dtype: int64\n",
            "cust_id    0\n",
            "target     0\n",
            "dtype: int64\n"
          ]
        }
      ]
    },
    {
      "cell_type": "code",
      "source": [
        "# 데이터 분리\n",
        "from sklearn.model_selection import train_test_split\n",
        "\n",
        "X_TRAIN, x_val, Y_TRAIN, y_val = train_test_split(\n",
        "    x_train,\n",
        "    y_train['target'],\n",
        "    random_state = 23,\n",
        "    test_size = 0.2\n",
        ")"
      ],
      "metadata": {
        "id": "XP2UM28nELi8"
      },
      "execution_count": null,
      "outputs": []
    },
    {
      "cell_type": "code",
      "source": [
        "# 모델 생성\n",
        "from sklearn.ensemble import RandomForestRegressor\n",
        "from sklearn.metrics import r2_score, mean_squared_error\n",
        "\n",
        "model = RandomForestRegressor(random_state=2023)\n",
        "model.fit(X_TRAIN, Y_TRAIN)\n",
        "\n",
        "# 예측하기\n",
        "y_pred = model.predict(x_val)\n",
        "\n",
        "# 정확도 확인\n",
        "r2 = r2_score(y_val, y_pred) # 1에 가까울수록 좋음\n",
        "mse = mean_squared_error(y_val, y_pred)\n",
        "\n",
        "print('mse', mse)\n",
        "print('rmse', mse**0.5)\n",
        "print('r2', r2)\n",
        "\n",
        "# x_test 진행\n",
        "y_result = model.predict(x_test)\n",
        "result = pd.DataFrame({'cust_id': cust_id, 'target': y_result})\n",
        "\n",
        "# 저장\n",
        "pd.DataFrame({'result': y_result}).to_csv('수험번호.csv', index=False)\n",
        "# check = pd.read_csv('수험번호.csv')\n",
        "# print(check.head())"
      ],
      "metadata": {
        "colab": {
          "base_uri": "https://localhost:8080/"
        },
        "id": "PeK8tqRjESmT",
        "outputId": "82abe77d-3359-4aa1-8932-2f7214c0539f"
      },
      "execution_count": null,
      "outputs": [
        {
          "output_type": "stream",
          "name": "stdout",
          "text": [
            "mse 0.9812277338461534\n",
            "rmse 0.990569398803614\n",
            "r2 0.4286497615634072\n"
          ]
        }
      ]
    }
  ]
}