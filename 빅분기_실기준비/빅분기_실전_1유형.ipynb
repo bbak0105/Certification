{
  "nbformat": 4,
  "nbformat_minor": 0,
  "metadata": {
    "colab": {
      "provenance": []
    },
    "kernelspec": {
      "name": "python3",
      "display_name": "Python 3"
    },
    "language_info": {
      "name": "python"
    }
  },
  "cells": [
    {
      "cell_type": "code",
      "execution_count": null,
      "metadata": {
        "id": "f2zlQrGkL8LA",
        "colab": {
          "base_uri": "https://localhost:8080/",
          "height": 206
        },
        "outputId": "644dd8ab-688a-43fb-8772-20dc118ced24"
      },
      "outputs": [
        {
          "output_type": "execute_result",
          "data": {
            "text/plain": [
              "                 car   mpg  cyl   disp   hp  drat     wt   qsec  vs  am  gear  \\\n",
              "0          Mazda RX4  21.0    6  160.0  110  3.90  2.620  16.46   0   1     4   \n",
              "1      Mazda RX4 Wag  21.0    6  160.0  110  3.90  2.875  17.02   0   1     4   \n",
              "2         Datsun 710  22.8    4  108.0   93  3.85  2.320  18.61   1   1     4   \n",
              "3     Hornet 4 Drive  21.4    6  258.0  110  3.08  3.215  19.44   1   0     3   \n",
              "4  Hornet Sportabout  18.7    8  360.0  175  3.15  3.440  17.02   0   0     3   \n",
              "\n",
              "   carb  \n",
              "0     4  \n",
              "1     4  \n",
              "2     1  \n",
              "3     1  \n",
              "4     2  "
            ],
            "text/html": [
              "\n",
              "  <div id=\"df-9768bea3-ecb1-42c8-a47a-9bc5fa748ea9\" class=\"colab-df-container\">\n",
              "    <div>\n",
              "<style scoped>\n",
              "    .dataframe tbody tr th:only-of-type {\n",
              "        vertical-align: middle;\n",
              "    }\n",
              "\n",
              "    .dataframe tbody tr th {\n",
              "        vertical-align: top;\n",
              "    }\n",
              "\n",
              "    .dataframe thead th {\n",
              "        text-align: right;\n",
              "    }\n",
              "</style>\n",
              "<table border=\"1\" class=\"dataframe\">\n",
              "  <thead>\n",
              "    <tr style=\"text-align: right;\">\n",
              "      <th></th>\n",
              "      <th>car</th>\n",
              "      <th>mpg</th>\n",
              "      <th>cyl</th>\n",
              "      <th>disp</th>\n",
              "      <th>hp</th>\n",
              "      <th>drat</th>\n",
              "      <th>wt</th>\n",
              "      <th>qsec</th>\n",
              "      <th>vs</th>\n",
              "      <th>am</th>\n",
              "      <th>gear</th>\n",
              "      <th>carb</th>\n",
              "    </tr>\n",
              "  </thead>\n",
              "  <tbody>\n",
              "    <tr>\n",
              "      <th>0</th>\n",
              "      <td>Mazda RX4</td>\n",
              "      <td>21.0</td>\n",
              "      <td>6</td>\n",
              "      <td>160.0</td>\n",
              "      <td>110</td>\n",
              "      <td>3.90</td>\n",
              "      <td>2.620</td>\n",
              "      <td>16.46</td>\n",
              "      <td>0</td>\n",
              "      <td>1</td>\n",
              "      <td>4</td>\n",
              "      <td>4</td>\n",
              "    </tr>\n",
              "    <tr>\n",
              "      <th>1</th>\n",
              "      <td>Mazda RX4 Wag</td>\n",
              "      <td>21.0</td>\n",
              "      <td>6</td>\n",
              "      <td>160.0</td>\n",
              "      <td>110</td>\n",
              "      <td>3.90</td>\n",
              "      <td>2.875</td>\n",
              "      <td>17.02</td>\n",
              "      <td>0</td>\n",
              "      <td>1</td>\n",
              "      <td>4</td>\n",
              "      <td>4</td>\n",
              "    </tr>\n",
              "    <tr>\n",
              "      <th>2</th>\n",
              "      <td>Datsun 710</td>\n",
              "      <td>22.8</td>\n",
              "      <td>4</td>\n",
              "      <td>108.0</td>\n",
              "      <td>93</td>\n",
              "      <td>3.85</td>\n",
              "      <td>2.320</td>\n",
              "      <td>18.61</td>\n",
              "      <td>1</td>\n",
              "      <td>1</td>\n",
              "      <td>4</td>\n",
              "      <td>1</td>\n",
              "    </tr>\n",
              "    <tr>\n",
              "      <th>3</th>\n",
              "      <td>Hornet 4 Drive</td>\n",
              "      <td>21.4</td>\n",
              "      <td>6</td>\n",
              "      <td>258.0</td>\n",
              "      <td>110</td>\n",
              "      <td>3.08</td>\n",
              "      <td>3.215</td>\n",
              "      <td>19.44</td>\n",
              "      <td>1</td>\n",
              "      <td>0</td>\n",
              "      <td>3</td>\n",
              "      <td>1</td>\n",
              "    </tr>\n",
              "    <tr>\n",
              "      <th>4</th>\n",
              "      <td>Hornet Sportabout</td>\n",
              "      <td>18.7</td>\n",
              "      <td>8</td>\n",
              "      <td>360.0</td>\n",
              "      <td>175</td>\n",
              "      <td>3.15</td>\n",
              "      <td>3.440</td>\n",
              "      <td>17.02</td>\n",
              "      <td>0</td>\n",
              "      <td>0</td>\n",
              "      <td>3</td>\n",
              "      <td>2</td>\n",
              "    </tr>\n",
              "  </tbody>\n",
              "</table>\n",
              "</div>\n",
              "    <div class=\"colab-df-buttons\">\n",
              "\n",
              "  <div class=\"colab-df-container\">\n",
              "    <button class=\"colab-df-convert\" onclick=\"convertToInteractive('df-9768bea3-ecb1-42c8-a47a-9bc5fa748ea9')\"\n",
              "            title=\"Convert this dataframe to an interactive table.\"\n",
              "            style=\"display:none;\">\n",
              "\n",
              "  <svg xmlns=\"http://www.w3.org/2000/svg\" height=\"24px\" viewBox=\"0 -960 960 960\">\n",
              "    <path d=\"M120-120v-720h720v720H120Zm60-500h600v-160H180v160Zm220 220h160v-160H400v160Zm0 220h160v-160H400v160ZM180-400h160v-160H180v160Zm440 0h160v-160H620v160ZM180-180h160v-160H180v160Zm440 0h160v-160H620v160Z\"/>\n",
              "  </svg>\n",
              "    </button>\n",
              "\n",
              "  <style>\n",
              "    .colab-df-container {\n",
              "      display:flex;\n",
              "      gap: 12px;\n",
              "    }\n",
              "\n",
              "    .colab-df-convert {\n",
              "      background-color: #E8F0FE;\n",
              "      border: none;\n",
              "      border-radius: 50%;\n",
              "      cursor: pointer;\n",
              "      display: none;\n",
              "      fill: #1967D2;\n",
              "      height: 32px;\n",
              "      padding: 0 0 0 0;\n",
              "      width: 32px;\n",
              "    }\n",
              "\n",
              "    .colab-df-convert:hover {\n",
              "      background-color: #E2EBFA;\n",
              "      box-shadow: 0px 1px 2px rgba(60, 64, 67, 0.3), 0px 1px 3px 1px rgba(60, 64, 67, 0.15);\n",
              "      fill: #174EA6;\n",
              "    }\n",
              "\n",
              "    .colab-df-buttons div {\n",
              "      margin-bottom: 4px;\n",
              "    }\n",
              "\n",
              "    [theme=dark] .colab-df-convert {\n",
              "      background-color: #3B4455;\n",
              "      fill: #D2E3FC;\n",
              "    }\n",
              "\n",
              "    [theme=dark] .colab-df-convert:hover {\n",
              "      background-color: #434B5C;\n",
              "      box-shadow: 0px 1px 3px 1px rgba(0, 0, 0, 0.15);\n",
              "      filter: drop-shadow(0px 1px 2px rgba(0, 0, 0, 0.3));\n",
              "      fill: #FFFFFF;\n",
              "    }\n",
              "  </style>\n",
              "\n",
              "    <script>\n",
              "      const buttonEl =\n",
              "        document.querySelector('#df-9768bea3-ecb1-42c8-a47a-9bc5fa748ea9 button.colab-df-convert');\n",
              "      buttonEl.style.display =\n",
              "        google.colab.kernel.accessAllowed ? 'block' : 'none';\n",
              "\n",
              "      async function convertToInteractive(key) {\n",
              "        const element = document.querySelector('#df-9768bea3-ecb1-42c8-a47a-9bc5fa748ea9');\n",
              "        const dataTable =\n",
              "          await google.colab.kernel.invokeFunction('convertToInteractive',\n",
              "                                                    [key], {});\n",
              "        if (!dataTable) return;\n",
              "\n",
              "        const docLinkHtml = 'Like what you see? Visit the ' +\n",
              "          '<a target=\"_blank\" href=https://colab.research.google.com/notebooks/data_table.ipynb>data table notebook</a>'\n",
              "          + ' to learn more about interactive tables.';\n",
              "        element.innerHTML = '';\n",
              "        dataTable['output_type'] = 'display_data';\n",
              "        await google.colab.output.renderOutput(dataTable, element);\n",
              "        const docLink = document.createElement('div');\n",
              "        docLink.innerHTML = docLinkHtml;\n",
              "        element.appendChild(docLink);\n",
              "      }\n",
              "    </script>\n",
              "  </div>\n",
              "\n",
              "\n",
              "<div id=\"df-a19100e9-e514-4200-839a-aca0540e6d50\">\n",
              "  <button class=\"colab-df-quickchart\" onclick=\"quickchart('df-a19100e9-e514-4200-839a-aca0540e6d50')\"\n",
              "            title=\"Suggest charts\"\n",
              "            style=\"display:none;\">\n",
              "\n",
              "<svg xmlns=\"http://www.w3.org/2000/svg\" height=\"24px\"viewBox=\"0 0 24 24\"\n",
              "     width=\"24px\">\n",
              "    <g>\n",
              "        <path d=\"M19 3H5c-1.1 0-2 .9-2 2v14c0 1.1.9 2 2 2h14c1.1 0 2-.9 2-2V5c0-1.1-.9-2-2-2zM9 17H7v-7h2v7zm4 0h-2V7h2v10zm4 0h-2v-4h2v4z\"/>\n",
              "    </g>\n",
              "</svg>\n",
              "  </button>\n",
              "\n",
              "<style>\n",
              "  .colab-df-quickchart {\n",
              "      --bg-color: #E8F0FE;\n",
              "      --fill-color: #1967D2;\n",
              "      --hover-bg-color: #E2EBFA;\n",
              "      --hover-fill-color: #174EA6;\n",
              "      --disabled-fill-color: #AAA;\n",
              "      --disabled-bg-color: #DDD;\n",
              "  }\n",
              "\n",
              "  [theme=dark] .colab-df-quickchart {\n",
              "      --bg-color: #3B4455;\n",
              "      --fill-color: #D2E3FC;\n",
              "      --hover-bg-color: #434B5C;\n",
              "      --hover-fill-color: #FFFFFF;\n",
              "      --disabled-bg-color: #3B4455;\n",
              "      --disabled-fill-color: #666;\n",
              "  }\n",
              "\n",
              "  .colab-df-quickchart {\n",
              "    background-color: var(--bg-color);\n",
              "    border: none;\n",
              "    border-radius: 50%;\n",
              "    cursor: pointer;\n",
              "    display: none;\n",
              "    fill: var(--fill-color);\n",
              "    height: 32px;\n",
              "    padding: 0;\n",
              "    width: 32px;\n",
              "  }\n",
              "\n",
              "  .colab-df-quickchart:hover {\n",
              "    background-color: var(--hover-bg-color);\n",
              "    box-shadow: 0 1px 2px rgba(60, 64, 67, 0.3), 0 1px 3px 1px rgba(60, 64, 67, 0.15);\n",
              "    fill: var(--button-hover-fill-color);\n",
              "  }\n",
              "\n",
              "  .colab-df-quickchart-complete:disabled,\n",
              "  .colab-df-quickchart-complete:disabled:hover {\n",
              "    background-color: var(--disabled-bg-color);\n",
              "    fill: var(--disabled-fill-color);\n",
              "    box-shadow: none;\n",
              "  }\n",
              "\n",
              "  .colab-df-spinner {\n",
              "    border: 2px solid var(--fill-color);\n",
              "    border-color: transparent;\n",
              "    border-bottom-color: var(--fill-color);\n",
              "    animation:\n",
              "      spin 1s steps(1) infinite;\n",
              "  }\n",
              "\n",
              "  @keyframes spin {\n",
              "    0% {\n",
              "      border-color: transparent;\n",
              "      border-bottom-color: var(--fill-color);\n",
              "      border-left-color: var(--fill-color);\n",
              "    }\n",
              "    20% {\n",
              "      border-color: transparent;\n",
              "      border-left-color: var(--fill-color);\n",
              "      border-top-color: var(--fill-color);\n",
              "    }\n",
              "    30% {\n",
              "      border-color: transparent;\n",
              "      border-left-color: var(--fill-color);\n",
              "      border-top-color: var(--fill-color);\n",
              "      border-right-color: var(--fill-color);\n",
              "    }\n",
              "    40% {\n",
              "      border-color: transparent;\n",
              "      border-right-color: var(--fill-color);\n",
              "      border-top-color: var(--fill-color);\n",
              "    }\n",
              "    60% {\n",
              "      border-color: transparent;\n",
              "      border-right-color: var(--fill-color);\n",
              "    }\n",
              "    80% {\n",
              "      border-color: transparent;\n",
              "      border-right-color: var(--fill-color);\n",
              "      border-bottom-color: var(--fill-color);\n",
              "    }\n",
              "    90% {\n",
              "      border-color: transparent;\n",
              "      border-bottom-color: var(--fill-color);\n",
              "    }\n",
              "  }\n",
              "</style>\n",
              "\n",
              "  <script>\n",
              "    async function quickchart(key) {\n",
              "      const quickchartButtonEl =\n",
              "        document.querySelector('#' + key + ' button');\n",
              "      quickchartButtonEl.disabled = true;  // To prevent multiple clicks.\n",
              "      quickchartButtonEl.classList.add('colab-df-spinner');\n",
              "      try {\n",
              "        const charts = await google.colab.kernel.invokeFunction(\n",
              "            'suggestCharts', [key], {});\n",
              "      } catch (error) {\n",
              "        console.error('Error during call to suggestCharts:', error);\n",
              "      }\n",
              "      quickchartButtonEl.classList.remove('colab-df-spinner');\n",
              "      quickchartButtonEl.classList.add('colab-df-quickchart-complete');\n",
              "    }\n",
              "    (() => {\n",
              "      let quickchartButtonEl =\n",
              "        document.querySelector('#df-a19100e9-e514-4200-839a-aca0540e6d50 button');\n",
              "      quickchartButtonEl.style.display =\n",
              "        google.colab.kernel.accessAllowed ? 'block' : 'none';\n",
              "    })();\n",
              "  </script>\n",
              "</div>\n",
              "    </div>\n",
              "  </div>\n"
            ]
          },
          "metadata": {},
          "execution_count": 1
        }
      ],
      "source": [
        "import pandas as pd\n",
        "import numpy as np\n",
        "\n",
        "df = pd.read_csv(\"/content/mtcars.csv\")\n",
        "df.head()"
      ]
    },
    {
      "cell_type": "markdown",
      "source": [
        "### 문제1) mpg 변수의 제1사분위수를 구하고 반올림하여 정수값으로 출력하시오."
      ],
      "metadata": {
        "id": "S-yT2M3SMEhl"
      }
    },
    {
      "cell_type": "code",
      "source": [
        "df = pd.read_csv(\"/content/mtcars.csv\")\n",
        "Q1 = df['mpg'].quantile(0.25)\n",
        "round(Q1)"
      ],
      "metadata": {
        "id": "hBh_2ObBMEMg",
        "colab": {
          "base_uri": "https://localhost:8080/"
        },
        "outputId": "1482a9d2-a302-4f38-a0e7-3fb4ffc5a245"
      },
      "execution_count": null,
      "outputs": [
        {
          "output_type": "execute_result",
          "data": {
            "text/plain": [
              "15"
            ]
          },
          "metadata": {},
          "execution_count": 2
        }
      ]
    },
    {
      "cell_type": "markdown",
      "source": [
        "### 문제2) \bmpg 값이 19이상 21이하인 데이터의 수를 구하시오."
      ],
      "metadata": {
        "id": "T0QmqricMNFe"
      }
    },
    {
      "cell_type": "code",
      "source": [
        "df = pd.read_csv(\"/content/mtcars.csv\")\n",
        "len(df[(df['mpg'] >= 19) & (df['mpg'] <= 21)])"
      ],
      "metadata": {
        "id": "0IUL51LaMSRg",
        "colab": {
          "base_uri": "https://localhost:8080/"
        },
        "outputId": "fc6336df-dfc8-4071-94ea-e6285e7ff48d"
      },
      "execution_count": null,
      "outputs": [
        {
          "output_type": "execute_result",
          "data": {
            "text/plain": [
              "5"
            ]
          },
          "metadata": {},
          "execution_count": 3
        }
      ]
    },
    {
      "cell_type": "markdown",
      "source": [
        "### 문제3) hp 변수의 IQR 값을 구하시오."
      ],
      "metadata": {
        "id": "KbqYoeoVMS0p"
      }
    },
    {
      "cell_type": "code",
      "source": [
        "df = pd.read_csv(\"/content/mtcars.csv\")\n",
        "Q1 = df['hp'].quantile(0.25)\n",
        "Q3 = df['hp'].quantile(0.75)\n",
        "IQR = (Q3 - Q1)\n",
        "IQR"
      ],
      "metadata": {
        "id": "ICqYKvqDMYWS",
        "colab": {
          "base_uri": "https://localhost:8080/"
        },
        "outputId": "40a8e9b1-298c-4079-d404-ab63a0036ccd"
      },
      "execution_count": null,
      "outputs": [
        {
          "output_type": "execute_result",
          "data": {
            "text/plain": [
              "83.5"
            ]
          },
          "metadata": {},
          "execution_count": 30
        }
      ]
    },
    {
      "cell_type": "markdown",
      "source": [
        "### 문제4) wt 변수의 상위 10개 값의 총합을 구하여 소수점을 버리고 정수로 출력하시오."
      ],
      "metadata": {
        "id": "GK5qJjAhMX5Y"
      }
    },
    {
      "cell_type": "code",
      "source": [
        "df = pd.read_csv(\"/content/mtcars.csv\")\n",
        "wt_sort = df['wt'].sort_values(ascending=False)\n",
        "int(sum(wt_sort.head(10)))"
      ],
      "metadata": {
        "id": "JYk085V0Mew8",
        "colab": {
          "base_uri": "https://localhost:8080/"
        },
        "outputId": "e9d9ec8c-43ac-4d92-f764-c5e2f3c2bc62"
      },
      "execution_count": null,
      "outputs": [
        {
          "output_type": "execute_result",
          "data": {
            "text/plain": [
              "42"
            ]
          },
          "metadata": {},
          "execution_count": 5
        }
      ]
    },
    {
      "cell_type": "markdown",
      "source": [
        "### 문제5) 전체 자동차에서 cyl가 6인 비율이 얼마인지 반올림하여 소수점 첫째자리까지 출력하시오."
      ],
      "metadata": {
        "id": "ESpTPxiPMdrr"
      }
    },
    {
      "cell_type": "code",
      "source": [
        "df = pd.read_csv(\"/content/mtcars.csv\")\n",
        "round(len(df[df['cyl'] == 6]) / len(df), 1)"
      ],
      "metadata": {
        "id": "-W7ggFwSMd95",
        "colab": {
          "base_uri": "https://localhost:8080/"
        },
        "outputId": "6d1c1139-3d82-4411-e4ec-3bab661a0e50"
      },
      "execution_count": null,
      "outputs": [
        {
          "output_type": "execute_result",
          "data": {
            "text/plain": [
              "0.2"
            ]
          },
          "metadata": {},
          "execution_count": 6
        }
      ]
    },
    {
      "cell_type": "markdown",
      "source": [
        "### 문제6) 첫 번째 행부터 순서대로 10개 뽑은 후 mpg 열의 평균값을 반올림하여 정수로 출력하시오."
      ],
      "metadata": {
        "id": "G-R4p0alMjsR"
      }
    },
    {
      "cell_type": "code",
      "source": [
        "df = pd.read_csv(\"/content/mtcars.csv\")\n",
        "top_10 = df.head(10)\n",
        "round(top_10['mpg'].mean())"
      ],
      "metadata": {
        "id": "taooLF-WMplF",
        "colab": {
          "base_uri": "https://localhost:8080/"
        },
        "outputId": "2ad6a7f4-884f-48fb-a3e9-5277952525dd"
      },
      "execution_count": null,
      "outputs": [
        {
          "output_type": "execute_result",
          "data": {
            "text/plain": [
              "20"
            ]
          },
          "metadata": {},
          "execution_count": 7
        }
      ]
    },
    {
      "cell_type": "markdown",
      "source": [
        "### 문제7) 첫 번째 행부터 순서대로 50%까지 데이터를 뽑아 wt 변수의 중앙값을 구하시오."
      ],
      "metadata": {
        "id": "u-LznubRMpAH"
      }
    },
    {
      "cell_type": "code",
      "source": [
        "df = pd.read_csv(\"/content/mtcars.csv\")\n",
        "half = int(len(df) * 0.5)\n",
        "half_df = df[:half]\n",
        "print(half_df['wt'].median())"
      ],
      "metadata": {
        "id": "Z06YcBLeMvIR",
        "colab": {
          "base_uri": "https://localhost:8080/"
        },
        "outputId": "63859a36-f762-4684-c9ae-947423b4d098"
      },
      "execution_count": null,
      "outputs": [
        {
          "output_type": "stream",
          "name": "stdout",
          "text": [
            "3.44\n"
          ]
        }
      ]
    },
    {
      "cell_type": "markdown",
      "source": [
        "### 문제8) 결측값이 있는 데이터의 수를 출력하시오."
      ],
      "metadata": {
        "id": "hkJ0asisMvdJ"
      }
    },
    {
      "cell_type": "code",
      "source": [
        "df = pd.DataFrame( {\n",
        "    '날짜': ['20220103','20220105', None,'20230127','20220203', '20220205','20230210','20230223','20230312','20230422','20220505','20230511'],\n",
        "    '제품' : ['A','B', None, 'B', 'A', None,'A', 'B', 'A', 'B', 'A', 'A'],\n",
        "    '판매수': [3, None, 5, 10, 10, 10, 15, 15, 20, None, 30, 40],\n",
        "    '개당수익': [300, 400, 500, 600, 400, 500, 500, 600, 600, 700, 600, 600] })\n",
        "\n",
        "sum(df.isnull().sum())"
      ],
      "metadata": {
        "id": "POZ0AlRBMykD",
        "colab": {
          "base_uri": "https://localhost:8080/"
        },
        "outputId": "f06ece8f-2ec4-4bf2-f14d-4ec6ed80181e"
      },
      "execution_count": null,
      "outputs": [
        {
          "output_type": "execute_result",
          "data": {
            "text/plain": [
              "5"
            ]
          },
          "metadata": {},
          "execution_count": 9
        }
      ]
    },
    {
      "cell_type": "markdown",
      "source": [
        "### 문제9) '판매수' 컬럼의 결측값을 판매수의 중앙값으로 대체하고 <br/> 판매수의 평균값을 반올림하여 정수로 출력하시오."
      ],
      "metadata": {
        "id": "3ywaKPBLMyvy"
      }
    },
    {
      "cell_type": "code",
      "source": [
        "df = pd.DataFrame( {\n",
        "    '날짜': ['20220103','20220105', None,'20230127','20220203', '20220205','20230210','20230223','20230312','20230422','20220505','20230511'],\n",
        "    '제품' : ['A','B', None, 'B', 'A', None,'A', 'B', 'A', 'B', 'A', 'A'],\n",
        "    '판매수': [3, None, 5, 10, 10, 10, 15, 15, 20, None, 30, 40],\n",
        "    '개당수익': [300, 400, 500, 600, 400, 500, 500, 600, 600, 700, 600, 600] })\n",
        "\n",
        "med_panme = df['판매수'].median()\n",
        "df['판매수'] = df['판매수'].fillna(med_panme)\n",
        "round(df['판매수'].mean())"
      ],
      "metadata": {
        "id": "Q18TE4grM81D",
        "colab": {
          "base_uri": "https://localhost:8080/"
        },
        "outputId": "57a3e4a6-71cd-472e-a0e5-7a41bdaf768d"
      },
      "execution_count": null,
      "outputs": [
        {
          "output_type": "execute_result",
          "data": {
            "text/plain": [
              "15"
            ]
          },
          "metadata": {},
          "execution_count": 10
        }
      ]
    },
    {
      "cell_type": "markdown",
      "source": [
        "### 문제10) 판매수 컬럼에 결측치가 있는 행을 제거하고, <br/> 첫번째 행부터 순서대로 50%까지의 데이터를 추출하여 <br/> 판매수 변수의 Q1(1사분위수)값을 반올림하여 정수로 출력하시오."
      ],
      "metadata": {
        "id": "-_ZYaue7M67t"
      }
    },
    {
      "cell_type": "code",
      "source": [
        "df = pd.DataFrame( {\n",
        "    '날짜': ['20220103','20220105', None,'20230127','20220203', '20220205','20230210','20230223','20230312','20230422','20220505','20230511'],\n",
        "    '제품' : ['A','B', None, 'B', 'A', None,'A', 'B', 'A', 'B', 'A', 'A'],\n",
        "    '판매수': [3, None, 5, 10, 10, 10, 15, 15, 20, None, 30, 40],\n",
        "    '개당수익': [300, 400, 500, 600, 400, 500, 500, 600, 600, 700, 600, 600] })\n",
        "\n",
        "df = df['판매수'].dropna()\n",
        "half = int(len(df) * 0.5)\n",
        "half_df = df[:half]\n",
        "round(half_df.quantile(0.25))"
      ],
      "metadata": {
        "id": "habpANmgNHn5",
        "colab": {
          "base_uri": "https://localhost:8080/"
        },
        "outputId": "52d8c18b-b90c-4bf0-9e28-97017bbea689"
      },
      "execution_count": null,
      "outputs": [
        {
          "output_type": "execute_result",
          "data": {
            "text/plain": [
              "5"
            ]
          },
          "metadata": {},
          "execution_count": 36
        }
      ]
    },
    {
      "cell_type": "markdown",
      "source": [
        "### 문제11) cyl가 4인 자동차와 6인 자동차 그룹의 mpg 평균값 차이를 절대값으로 반올림하여 정수로 출력하시오."
      ],
      "metadata": {
        "id": "XB_cwuuhNH-T"
      }
    },
    {
      "cell_type": "code",
      "source": [
        "df = pd.read_csv(\"/content/mtcars.csv\")\n",
        "\n",
        "cyl_4 = df[df['cyl'] == 4]\n",
        "cyl_6 = df[df['cyl'] == 6]\n",
        "cyl4_mean = cyl_4['mpg'].mean()\n",
        "cyl6_mean = cyl_6['mpg'].mean()\n",
        "round(abs(cyl4_mean - cyl6_mean))"
      ],
      "metadata": {
        "id": "WvBHq_JK6ZzM",
        "colab": {
          "base_uri": "https://localhost:8080/"
        },
        "outputId": "e8d6e702-5fc6-4587-a11b-9513989975c8"
      },
      "execution_count": null,
      "outputs": [
        {
          "output_type": "execute_result",
          "data": {
            "text/plain": [
              "7"
            ]
          },
          "metadata": {},
          "execution_count": 12
        }
      ]
    },
    {
      "cell_type": "markdown",
      "source": [
        "### 문제12) hp변수에 대해 데이터표준화(Z-score)를 진행하고 이상치의 수를 구하시오. <br/> 단, 이상치는 Z값이 1.5를 초과하거나 -1.5 미만인 값이다."
      ],
      "metadata": {
        "id": "-60EvoDT6agi"
      }
    },
    {
      "cell_type": "code",
      "source": [
        "df = pd.read_csv(\"/content/mtcars.csv\")\n",
        "\n",
        "# Z-score: X-평균 / 표준편차\n",
        "df['zScore'] = (df['hp'] - df['hp'].mean()) / df['hp'].std()\n",
        "len(df[(df['zScore'] > 1.5) | (df['zScore'] < -1.5)])"
      ],
      "metadata": {
        "id": "AN5ArvEK6fu8",
        "colab": {
          "base_uri": "https://localhost:8080/"
        },
        "outputId": "14566f0c-1a10-4235-a432-9e000276cdec"
      },
      "execution_count": null,
      "outputs": [
        {
          "output_type": "execute_result",
          "data": {
            "text/plain": [
              "2"
            ]
          },
          "metadata": {},
          "execution_count": 37
        }
      ]
    },
    {
      "cell_type": "markdown",
      "source": [
        "### 문제13) mpg 컬럼을 최소최대 Scailing을 진행한 후 0.7보다 큰 값을 가지는 레코드 수를 구하라."
      ],
      "metadata": {
        "id": "JiqH_pLn6gNn"
      }
    },
    {
      "cell_type": "code",
      "source": [
        "df = pd.read_csv(\"/content/mtcars.csv\")\n",
        "\n",
        "# Scailing: X-min / max - min\n",
        "df['mpg'] = (df['mpg'] - df['mpg'].min()) / (df['mpg'].max() - df['mpg'].min())\n",
        "len(df[df['mpg'] > 0.7])"
      ],
      "metadata": {
        "id": "dbw47_iG6r30",
        "colab": {
          "base_uri": "https://localhost:8080/"
        },
        "outputId": "252aa7ec-49e5-4d18-db32-303f34a7b68f"
      },
      "execution_count": null,
      "outputs": [
        {
          "output_type": "execute_result",
          "data": {
            "text/plain": [
              "5"
            ]
          },
          "metadata": {},
          "execution_count": 14
        }
      ]
    },
    {
      "cell_type": "markdown",
      "source": [
        "### 문제14) wt컬럼에 대해 상자그림 기준으로 이상치의 개수를 구하시오."
      ],
      "metadata": {
        "id": "mFLDZvjB6sKK"
      }
    },
    {
      "cell_type": "code",
      "source": [
        "df = pd.read_csv(\"/content/mtcars.csv\")\n",
        "\n",
        "Q3 = df['wt'].quantile(0.75)\n",
        "Q1 = df['wt'].quantile(0.25)\n",
        "IQR = Q3 - Q1\n",
        "\n",
        "max_upper = Q3 + (IQR * 1.5)\n",
        "min_lower = Q1 - (IQR * 1.5)\n",
        "\n",
        "len(df[(df['wt'] > max_upper) | (df['wt'] < min_lower)])"
      ],
      "metadata": {
        "id": "HTVgaO8l6wVH",
        "colab": {
          "base_uri": "https://localhost:8080/"
        },
        "outputId": "8a8a5a01-f9a6-428e-ece1-a422a3b8e4c6"
      },
      "execution_count": null,
      "outputs": [
        {
          "output_type": "execute_result",
          "data": {
            "text/plain": [
              "3"
            ]
          },
          "metadata": {},
          "execution_count": 15
        }
      ]
    },
    {
      "cell_type": "markdown",
      "source": [
        "### 문제15) 판매수 컬럼의 결측치를 최소값으로 대체하고 결측치가 있을 때와 최소값으로 대체했을 때 평균값의 차이를 절대값으로 반올림화여 정수로 출력하시오."
      ],
      "metadata": {
        "id": "M60csD9l6vvb"
      }
    },
    {
      "cell_type": "code",
      "source": [
        "df = pd.DataFrame( {\n",
        "    '날짜': ['20220103','20220105', None,'20230127','20220203', '20220205','20230210','20230223','20230312','20230422','20220505','20230511'],\n",
        "    '제품' : ['A','B', None, 'B', 'A', None,'A', 'B', 'A', 'B', 'A', 'A'],\n",
        "    '판매수': [3, None, 5, 10, 10, 10, 15, 15, 20, None, 30, 40],\n",
        "    '개당수익': [300, 400, 500, 600, 400, 500, 500, 600, 600, 700, 600, 600] })\n",
        "\n",
        "df1 = df.copy()\n",
        "df1 = df1.fillna(df1['판매수'].min())\n",
        "\n",
        "round(abs(df['판매수'].mean() - df1['판매수'].mean()))"
      ],
      "metadata": {
        "id": "DKBJo2LQ636T",
        "colab": {
          "base_uri": "https://localhost:8080/"
        },
        "outputId": "e768e0ab-3a0f-4a58-b4c3-c35d11c1ec70"
      },
      "execution_count": null,
      "outputs": [
        {
          "output_type": "execute_result",
          "data": {
            "text/plain": [
              "2"
            ]
          },
          "metadata": {},
          "execution_count": 16
        }
      ]
    },
    {
      "cell_type": "markdown",
      "source": [
        "### 문제16) vs변수가 0이 아닌 차량 중에 mpg값이 가장 큰 차량의 hp 값을 출력하시오."
      ],
      "metadata": {
        "id": "SybtcQlQ64Iv"
      }
    },
    {
      "cell_type": "code",
      "source": [
        "df = pd.read_csv(\"/content/mtcars.csv\")\n",
        "df = df[df['vs'] != 0]\n",
        "# df[df['mpg'] == not_vs_0['mpg'].max()]['hp'].values[0]\n",
        "\n",
        "# 풀이\n",
        "df = df.sort_values('mpg', ascending=False)\n",
        "df['hp'].iloc[0]\n",
        "df"
      ],
      "metadata": {
        "id": "CStFw4m27A2a",
        "colab": {
          "base_uri": "https://localhost:8080/",
          "height": 488
        },
        "outputId": "f4212f42-afc3-439f-a552-0541f3ea1c41"
      },
      "execution_count": null,
      "outputs": [
        {
          "output_type": "execute_result",
          "data": {
            "text/plain": [
              "               car   mpg  cyl   disp   hp  drat     wt   qsec  vs  am  gear  \\\n",
              "19  Toyota Corolla  33.9    4   71.1   65  4.22  1.835  19.90   1   1     4   \n",
              "17        Fiat 128  32.4    4   78.7   66  4.08  2.200  19.47   1   1     4   \n",
              "18     Honda Civic  30.4    4   75.7   52  4.93  1.615  18.52   1   1     4   \n",
              "27    Lotus Europa  30.4    4   95.1  113  3.77  1.513  16.90   1   1     5   \n",
              "25       Fiat X1-9  27.3    4   79.0   66  4.08  1.935  18.90   1   1     4   \n",
              "7        Merc 240D  24.4    4  146.7   62  3.69  3.190  20.00   1   0     4   \n",
              "2       Datsun 710  22.8    4  108.0   93  3.85  2.320  18.61   1   1     4   \n",
              "8         Merc 230  22.8    4  140.8   95  3.92  3.150  22.90   1   0     4   \n",
              "20   Toyota Corona  21.5    4  120.1   97  3.70  2.465  20.01   1   0     3   \n",
              "3   Hornet 4 Drive  21.4    6  258.0  110  3.08  3.215  19.44   1   0     3   \n",
              "31      Volvo 142E  21.4    4  121.0  109  4.11  2.780  18.60   1   1     4   \n",
              "9         Merc 280  19.2    6  167.6  123  3.92  3.440  18.30   1   0     4   \n",
              "5          Valiant  18.1    6  225.0  105  2.76  3.460  20.22   1   0     3   \n",
              "10       Merc 280C  17.8    6  167.6  123  3.92  3.440  18.90   1   0     4   \n",
              "\n",
              "    carb  \n",
              "19     1  \n",
              "17     1  \n",
              "18     2  \n",
              "27     2  \n",
              "25     1  \n",
              "7      2  \n",
              "2      1  \n",
              "8      2  \n",
              "20     1  \n",
              "3      1  \n",
              "31     2  \n",
              "9      4  \n",
              "5      1  \n",
              "10     4  "
            ],
            "text/html": [
              "\n",
              "  <div id=\"df-cbb19826-4489-45eb-b931-872d006d2fe7\" class=\"colab-df-container\">\n",
              "    <div>\n",
              "<style scoped>\n",
              "    .dataframe tbody tr th:only-of-type {\n",
              "        vertical-align: middle;\n",
              "    }\n",
              "\n",
              "    .dataframe tbody tr th {\n",
              "        vertical-align: top;\n",
              "    }\n",
              "\n",
              "    .dataframe thead th {\n",
              "        text-align: right;\n",
              "    }\n",
              "</style>\n",
              "<table border=\"1\" class=\"dataframe\">\n",
              "  <thead>\n",
              "    <tr style=\"text-align: right;\">\n",
              "      <th></th>\n",
              "      <th>car</th>\n",
              "      <th>mpg</th>\n",
              "      <th>cyl</th>\n",
              "      <th>disp</th>\n",
              "      <th>hp</th>\n",
              "      <th>drat</th>\n",
              "      <th>wt</th>\n",
              "      <th>qsec</th>\n",
              "      <th>vs</th>\n",
              "      <th>am</th>\n",
              "      <th>gear</th>\n",
              "      <th>carb</th>\n",
              "    </tr>\n",
              "  </thead>\n",
              "  <tbody>\n",
              "    <tr>\n",
              "      <th>19</th>\n",
              "      <td>Toyota Corolla</td>\n",
              "      <td>33.9</td>\n",
              "      <td>4</td>\n",
              "      <td>71.1</td>\n",
              "      <td>65</td>\n",
              "      <td>4.22</td>\n",
              "      <td>1.835</td>\n",
              "      <td>19.90</td>\n",
              "      <td>1</td>\n",
              "      <td>1</td>\n",
              "      <td>4</td>\n",
              "      <td>1</td>\n",
              "    </tr>\n",
              "    <tr>\n",
              "      <th>17</th>\n",
              "      <td>Fiat 128</td>\n",
              "      <td>32.4</td>\n",
              "      <td>4</td>\n",
              "      <td>78.7</td>\n",
              "      <td>66</td>\n",
              "      <td>4.08</td>\n",
              "      <td>2.200</td>\n",
              "      <td>19.47</td>\n",
              "      <td>1</td>\n",
              "      <td>1</td>\n",
              "      <td>4</td>\n",
              "      <td>1</td>\n",
              "    </tr>\n",
              "    <tr>\n",
              "      <th>18</th>\n",
              "      <td>Honda Civic</td>\n",
              "      <td>30.4</td>\n",
              "      <td>4</td>\n",
              "      <td>75.7</td>\n",
              "      <td>52</td>\n",
              "      <td>4.93</td>\n",
              "      <td>1.615</td>\n",
              "      <td>18.52</td>\n",
              "      <td>1</td>\n",
              "      <td>1</td>\n",
              "      <td>4</td>\n",
              "      <td>2</td>\n",
              "    </tr>\n",
              "    <tr>\n",
              "      <th>27</th>\n",
              "      <td>Lotus Europa</td>\n",
              "      <td>30.4</td>\n",
              "      <td>4</td>\n",
              "      <td>95.1</td>\n",
              "      <td>113</td>\n",
              "      <td>3.77</td>\n",
              "      <td>1.513</td>\n",
              "      <td>16.90</td>\n",
              "      <td>1</td>\n",
              "      <td>1</td>\n",
              "      <td>5</td>\n",
              "      <td>2</td>\n",
              "    </tr>\n",
              "    <tr>\n",
              "      <th>25</th>\n",
              "      <td>Fiat X1-9</td>\n",
              "      <td>27.3</td>\n",
              "      <td>4</td>\n",
              "      <td>79.0</td>\n",
              "      <td>66</td>\n",
              "      <td>4.08</td>\n",
              "      <td>1.935</td>\n",
              "      <td>18.90</td>\n",
              "      <td>1</td>\n",
              "      <td>1</td>\n",
              "      <td>4</td>\n",
              "      <td>1</td>\n",
              "    </tr>\n",
              "    <tr>\n",
              "      <th>7</th>\n",
              "      <td>Merc 240D</td>\n",
              "      <td>24.4</td>\n",
              "      <td>4</td>\n",
              "      <td>146.7</td>\n",
              "      <td>62</td>\n",
              "      <td>3.69</td>\n",
              "      <td>3.190</td>\n",
              "      <td>20.00</td>\n",
              "      <td>1</td>\n",
              "      <td>0</td>\n",
              "      <td>4</td>\n",
              "      <td>2</td>\n",
              "    </tr>\n",
              "    <tr>\n",
              "      <th>2</th>\n",
              "      <td>Datsun 710</td>\n",
              "      <td>22.8</td>\n",
              "      <td>4</td>\n",
              "      <td>108.0</td>\n",
              "      <td>93</td>\n",
              "      <td>3.85</td>\n",
              "      <td>2.320</td>\n",
              "      <td>18.61</td>\n",
              "      <td>1</td>\n",
              "      <td>1</td>\n",
              "      <td>4</td>\n",
              "      <td>1</td>\n",
              "    </tr>\n",
              "    <tr>\n",
              "      <th>8</th>\n",
              "      <td>Merc 230</td>\n",
              "      <td>22.8</td>\n",
              "      <td>4</td>\n",
              "      <td>140.8</td>\n",
              "      <td>95</td>\n",
              "      <td>3.92</td>\n",
              "      <td>3.150</td>\n",
              "      <td>22.90</td>\n",
              "      <td>1</td>\n",
              "      <td>0</td>\n",
              "      <td>4</td>\n",
              "      <td>2</td>\n",
              "    </tr>\n",
              "    <tr>\n",
              "      <th>20</th>\n",
              "      <td>Toyota Corona</td>\n",
              "      <td>21.5</td>\n",
              "      <td>4</td>\n",
              "      <td>120.1</td>\n",
              "      <td>97</td>\n",
              "      <td>3.70</td>\n",
              "      <td>2.465</td>\n",
              "      <td>20.01</td>\n",
              "      <td>1</td>\n",
              "      <td>0</td>\n",
              "      <td>3</td>\n",
              "      <td>1</td>\n",
              "    </tr>\n",
              "    <tr>\n",
              "      <th>3</th>\n",
              "      <td>Hornet 4 Drive</td>\n",
              "      <td>21.4</td>\n",
              "      <td>6</td>\n",
              "      <td>258.0</td>\n",
              "      <td>110</td>\n",
              "      <td>3.08</td>\n",
              "      <td>3.215</td>\n",
              "      <td>19.44</td>\n",
              "      <td>1</td>\n",
              "      <td>0</td>\n",
              "      <td>3</td>\n",
              "      <td>1</td>\n",
              "    </tr>\n",
              "    <tr>\n",
              "      <th>31</th>\n",
              "      <td>Volvo 142E</td>\n",
              "      <td>21.4</td>\n",
              "      <td>4</td>\n",
              "      <td>121.0</td>\n",
              "      <td>109</td>\n",
              "      <td>4.11</td>\n",
              "      <td>2.780</td>\n",
              "      <td>18.60</td>\n",
              "      <td>1</td>\n",
              "      <td>1</td>\n",
              "      <td>4</td>\n",
              "      <td>2</td>\n",
              "    </tr>\n",
              "    <tr>\n",
              "      <th>9</th>\n",
              "      <td>Merc 280</td>\n",
              "      <td>19.2</td>\n",
              "      <td>6</td>\n",
              "      <td>167.6</td>\n",
              "      <td>123</td>\n",
              "      <td>3.92</td>\n",
              "      <td>3.440</td>\n",
              "      <td>18.30</td>\n",
              "      <td>1</td>\n",
              "      <td>0</td>\n",
              "      <td>4</td>\n",
              "      <td>4</td>\n",
              "    </tr>\n",
              "    <tr>\n",
              "      <th>5</th>\n",
              "      <td>Valiant</td>\n",
              "      <td>18.1</td>\n",
              "      <td>6</td>\n",
              "      <td>225.0</td>\n",
              "      <td>105</td>\n",
              "      <td>2.76</td>\n",
              "      <td>3.460</td>\n",
              "      <td>20.22</td>\n",
              "      <td>1</td>\n",
              "      <td>0</td>\n",
              "      <td>3</td>\n",
              "      <td>1</td>\n",
              "    </tr>\n",
              "    <tr>\n",
              "      <th>10</th>\n",
              "      <td>Merc 280C</td>\n",
              "      <td>17.8</td>\n",
              "      <td>6</td>\n",
              "      <td>167.6</td>\n",
              "      <td>123</td>\n",
              "      <td>3.92</td>\n",
              "      <td>3.440</td>\n",
              "      <td>18.90</td>\n",
              "      <td>1</td>\n",
              "      <td>0</td>\n",
              "      <td>4</td>\n",
              "      <td>4</td>\n",
              "    </tr>\n",
              "  </tbody>\n",
              "</table>\n",
              "</div>\n",
              "    <div class=\"colab-df-buttons\">\n",
              "\n",
              "  <div class=\"colab-df-container\">\n",
              "    <button class=\"colab-df-convert\" onclick=\"convertToInteractive('df-cbb19826-4489-45eb-b931-872d006d2fe7')\"\n",
              "            title=\"Convert this dataframe to an interactive table.\"\n",
              "            style=\"display:none;\">\n",
              "\n",
              "  <svg xmlns=\"http://www.w3.org/2000/svg\" height=\"24px\" viewBox=\"0 -960 960 960\">\n",
              "    <path d=\"M120-120v-720h720v720H120Zm60-500h600v-160H180v160Zm220 220h160v-160H400v160Zm0 220h160v-160H400v160ZM180-400h160v-160H180v160Zm440 0h160v-160H620v160ZM180-180h160v-160H180v160Zm440 0h160v-160H620v160Z\"/>\n",
              "  </svg>\n",
              "    </button>\n",
              "\n",
              "  <style>\n",
              "    .colab-df-container {\n",
              "      display:flex;\n",
              "      gap: 12px;\n",
              "    }\n",
              "\n",
              "    .colab-df-convert {\n",
              "      background-color: #E8F0FE;\n",
              "      border: none;\n",
              "      border-radius: 50%;\n",
              "      cursor: pointer;\n",
              "      display: none;\n",
              "      fill: #1967D2;\n",
              "      height: 32px;\n",
              "      padding: 0 0 0 0;\n",
              "      width: 32px;\n",
              "    }\n",
              "\n",
              "    .colab-df-convert:hover {\n",
              "      background-color: #E2EBFA;\n",
              "      box-shadow: 0px 1px 2px rgba(60, 64, 67, 0.3), 0px 1px 3px 1px rgba(60, 64, 67, 0.15);\n",
              "      fill: #174EA6;\n",
              "    }\n",
              "\n",
              "    .colab-df-buttons div {\n",
              "      margin-bottom: 4px;\n",
              "    }\n",
              "\n",
              "    [theme=dark] .colab-df-convert {\n",
              "      background-color: #3B4455;\n",
              "      fill: #D2E3FC;\n",
              "    }\n",
              "\n",
              "    [theme=dark] .colab-df-convert:hover {\n",
              "      background-color: #434B5C;\n",
              "      box-shadow: 0px 1px 3px 1px rgba(0, 0, 0, 0.15);\n",
              "      filter: drop-shadow(0px 1px 2px rgba(0, 0, 0, 0.3));\n",
              "      fill: #FFFFFF;\n",
              "    }\n",
              "  </style>\n",
              "\n",
              "    <script>\n",
              "      const buttonEl =\n",
              "        document.querySelector('#df-cbb19826-4489-45eb-b931-872d006d2fe7 button.colab-df-convert');\n",
              "      buttonEl.style.display =\n",
              "        google.colab.kernel.accessAllowed ? 'block' : 'none';\n",
              "\n",
              "      async function convertToInteractive(key) {\n",
              "        const element = document.querySelector('#df-cbb19826-4489-45eb-b931-872d006d2fe7');\n",
              "        const dataTable =\n",
              "          await google.colab.kernel.invokeFunction('convertToInteractive',\n",
              "                                                    [key], {});\n",
              "        if (!dataTable) return;\n",
              "\n",
              "        const docLinkHtml = 'Like what you see? Visit the ' +\n",
              "          '<a target=\"_blank\" href=https://colab.research.google.com/notebooks/data_table.ipynb>data table notebook</a>'\n",
              "          + ' to learn more about interactive tables.';\n",
              "        element.innerHTML = '';\n",
              "        dataTable['output_type'] = 'display_data';\n",
              "        await google.colab.output.renderOutput(dataTable, element);\n",
              "        const docLink = document.createElement('div');\n",
              "        docLink.innerHTML = docLinkHtml;\n",
              "        element.appendChild(docLink);\n",
              "      }\n",
              "    </script>\n",
              "  </div>\n",
              "\n",
              "\n",
              "<div id=\"df-78b710e7-31ff-4446-b32f-20f28a739660\">\n",
              "  <button class=\"colab-df-quickchart\" onclick=\"quickchart('df-78b710e7-31ff-4446-b32f-20f28a739660')\"\n",
              "            title=\"Suggest charts\"\n",
              "            style=\"display:none;\">\n",
              "\n",
              "<svg xmlns=\"http://www.w3.org/2000/svg\" height=\"24px\"viewBox=\"0 0 24 24\"\n",
              "     width=\"24px\">\n",
              "    <g>\n",
              "        <path d=\"M19 3H5c-1.1 0-2 .9-2 2v14c0 1.1.9 2 2 2h14c1.1 0 2-.9 2-2V5c0-1.1-.9-2-2-2zM9 17H7v-7h2v7zm4 0h-2V7h2v10zm4 0h-2v-4h2v4z\"/>\n",
              "    </g>\n",
              "</svg>\n",
              "  </button>\n",
              "\n",
              "<style>\n",
              "  .colab-df-quickchart {\n",
              "      --bg-color: #E8F0FE;\n",
              "      --fill-color: #1967D2;\n",
              "      --hover-bg-color: #E2EBFA;\n",
              "      --hover-fill-color: #174EA6;\n",
              "      --disabled-fill-color: #AAA;\n",
              "      --disabled-bg-color: #DDD;\n",
              "  }\n",
              "\n",
              "  [theme=dark] .colab-df-quickchart {\n",
              "      --bg-color: #3B4455;\n",
              "      --fill-color: #D2E3FC;\n",
              "      --hover-bg-color: #434B5C;\n",
              "      --hover-fill-color: #FFFFFF;\n",
              "      --disabled-bg-color: #3B4455;\n",
              "      --disabled-fill-color: #666;\n",
              "  }\n",
              "\n",
              "  .colab-df-quickchart {\n",
              "    background-color: var(--bg-color);\n",
              "    border: none;\n",
              "    border-radius: 50%;\n",
              "    cursor: pointer;\n",
              "    display: none;\n",
              "    fill: var(--fill-color);\n",
              "    height: 32px;\n",
              "    padding: 0;\n",
              "    width: 32px;\n",
              "  }\n",
              "\n",
              "  .colab-df-quickchart:hover {\n",
              "    background-color: var(--hover-bg-color);\n",
              "    box-shadow: 0 1px 2px rgba(60, 64, 67, 0.3), 0 1px 3px 1px rgba(60, 64, 67, 0.15);\n",
              "    fill: var(--button-hover-fill-color);\n",
              "  }\n",
              "\n",
              "  .colab-df-quickchart-complete:disabled,\n",
              "  .colab-df-quickchart-complete:disabled:hover {\n",
              "    background-color: var(--disabled-bg-color);\n",
              "    fill: var(--disabled-fill-color);\n",
              "    box-shadow: none;\n",
              "  }\n",
              "\n",
              "  .colab-df-spinner {\n",
              "    border: 2px solid var(--fill-color);\n",
              "    border-color: transparent;\n",
              "    border-bottom-color: var(--fill-color);\n",
              "    animation:\n",
              "      spin 1s steps(1) infinite;\n",
              "  }\n",
              "\n",
              "  @keyframes spin {\n",
              "    0% {\n",
              "      border-color: transparent;\n",
              "      border-bottom-color: var(--fill-color);\n",
              "      border-left-color: var(--fill-color);\n",
              "    }\n",
              "    20% {\n",
              "      border-color: transparent;\n",
              "      border-left-color: var(--fill-color);\n",
              "      border-top-color: var(--fill-color);\n",
              "    }\n",
              "    30% {\n",
              "      border-color: transparent;\n",
              "      border-left-color: var(--fill-color);\n",
              "      border-top-color: var(--fill-color);\n",
              "      border-right-color: var(--fill-color);\n",
              "    }\n",
              "    40% {\n",
              "      border-color: transparent;\n",
              "      border-right-color: var(--fill-color);\n",
              "      border-top-color: var(--fill-color);\n",
              "    }\n",
              "    60% {\n",
              "      border-color: transparent;\n",
              "      border-right-color: var(--fill-color);\n",
              "    }\n",
              "    80% {\n",
              "      border-color: transparent;\n",
              "      border-right-color: var(--fill-color);\n",
              "      border-bottom-color: var(--fill-color);\n",
              "    }\n",
              "    90% {\n",
              "      border-color: transparent;\n",
              "      border-bottom-color: var(--fill-color);\n",
              "    }\n",
              "  }\n",
              "</style>\n",
              "\n",
              "  <script>\n",
              "    async function quickchart(key) {\n",
              "      const quickchartButtonEl =\n",
              "        document.querySelector('#' + key + ' button');\n",
              "      quickchartButtonEl.disabled = true;  // To prevent multiple clicks.\n",
              "      quickchartButtonEl.classList.add('colab-df-spinner');\n",
              "      try {\n",
              "        const charts = await google.colab.kernel.invokeFunction(\n",
              "            'suggestCharts', [key], {});\n",
              "      } catch (error) {\n",
              "        console.error('Error during call to suggestCharts:', error);\n",
              "      }\n",
              "      quickchartButtonEl.classList.remove('colab-df-spinner');\n",
              "      quickchartButtonEl.classList.add('colab-df-quickchart-complete');\n",
              "    }\n",
              "    (() => {\n",
              "      let quickchartButtonEl =\n",
              "        document.querySelector('#df-78b710e7-31ff-4446-b32f-20f28a739660 button');\n",
              "      quickchartButtonEl.style.display =\n",
              "        google.colab.kernel.accessAllowed ? 'block' : 'none';\n",
              "    })();\n",
              "  </script>\n",
              "</div>\n",
              "    </div>\n",
              "  </div>\n"
            ]
          },
          "metadata": {},
          "execution_count": 17
        }
      ]
    },
    {
      "cell_type": "markdown",
      "source": [
        "### 문제17) gear 변수값이 3, 4인 두 그룹의 hp표준편차값의 차이를 절대값으로 반올림하여 소수점 첫째자리까지 출력하시오."
      ],
      "metadata": {
        "id": "fcsqY8157BTS"
      }
    },
    {
      "cell_type": "code",
      "source": [
        "df = pd.read_csv(\"/content/mtcars.csv\")"
      ],
      "metadata": {
        "id": "gTkz3By87H0R"
      },
      "execution_count": null,
      "outputs": []
    },
    {
      "cell_type": "markdown",
      "source": [
        "### 문제18) gear변수의 값별로 그룹화하여 mpg평균값을 산출하고 평균값이 높은 그룹의 mpg 제3사분위수 값을 구하시오."
      ],
      "metadata": {
        "id": "gx9cN_Hg7ISo"
      }
    },
    {
      "cell_type": "code",
      "source": [
        "import pandas as pd\n",
        "import numpy as np\n",
        "\n",
        "df = pd.read_csv(\"/content/mtcars.csv\")\n",
        "df2 = df.groupby('gear').mean() # 4가 가장 높음\n",
        "\n",
        "gear4 = df[df['gear']==4]\n",
        "gear4['mpg'].quantile(0.75)"
      ],
      "metadata": {
        "id": "2W0TfU897PTD",
        "colab": {
          "base_uri": "https://localhost:8080/"
        },
        "outputId": "2da166d6-6c42-44bb-e368-90af03e1a250"
      },
      "execution_count": null,
      "outputs": [
        {
          "output_type": "stream",
          "name": "stderr",
          "text": [
            "<ipython-input-33-909a3d5652d6>:5: FutureWarning: The default value of numeric_only in DataFrameGroupBy.mean is deprecated. In a future version, numeric_only will default to False. Either specify numeric_only or select only columns which should be valid for the function.\n",
            "  df2 = df.groupby('gear').mean() # 4가 가장 높음\n"
          ]
        },
        {
          "output_type": "execute_result",
          "data": {
            "text/plain": [
              "28.075"
            ]
          },
          "metadata": {},
          "execution_count": 33
        }
      ]
    },
    {
      "cell_type": "markdown",
      "source": [
        "### 문제19) hp 항목의 상위 7번째 값으로 상위 7개 값을 변환한 후, hp가 150 이상인 데이터를 추출하여 hp의 평균값을 반올림하여 정수로 출력하시오."
      ],
      "metadata": {
        "id": "_Ar7jjzj7Qm6"
      }
    },
    {
      "cell_type": "code",
      "source": [
        "df = pd.read_csv(\"/content/mtcars.csv\")\n",
        "\n",
        "a = df.sort_values('hp',ascending=False).head(10)\n",
        "a.iloc[:7]"
      ],
      "metadata": {
        "id": "Fv1h0K-G7h_t",
        "colab": {
          "base_uri": "https://localhost:8080/"
        },
        "outputId": "4d8c46f8-dfcc-4e96-a808-e33286c01337"
      },
      "execution_count": null,
      "outputs": [
        {
          "output_type": "stream",
          "name": "stdout",
          "text": [
            "aaa\n",
            "                    car   mpg  cyl   disp   hp  drat     wt   qsec  vs  am  \\\n",
            "30        Maserati Bora  15.0    8  301.0  335  3.54  3.570  14.60   0   1   \n",
            "28       Ford Pantera L  15.8    8  351.0  264  4.22  3.170  14.50   0   1   \n",
            "6            Duster 360  14.3    8  360.0  245  3.21  3.570  15.84   0   0   \n",
            "23           Camaro Z28  13.3    8  350.0  245  3.73  3.840  15.41   0   0   \n",
            "16    Chrysler Imperial  14.7    8  440.0  230  3.23  5.345  17.42   0   0   \n",
            "15  Lincoln Continental  10.4    8  460.0  215  3.00  5.424  17.82   0   0   \n",
            "14   Cadillac Fleetwood  10.4    8  472.0  205  2.93  5.250  17.98   0   0   \n",
            "13          Merc 450SLC  15.2    8  275.8  180  3.07  3.780  18.00   0   0   \n",
            "11           Merc 450SE  16.4    8  275.8  180  3.07  4.070  17.40   0   0   \n",
            "12           Merc 450SL  17.3    8  275.8  180  3.07  3.730  17.60   0   0   \n",
            "\n",
            "    gear  carb  \n",
            "30     5     8  \n",
            "28     5     4  \n",
            "6      3     4  \n",
            "23     3     4  \n",
            "16     3     4  \n",
            "15     3     4  \n",
            "14     3     4  \n",
            "13     3     3  \n",
            "11     3     3  \n",
            "12     3     3  \n",
            "bbb\n",
            "                    car   mpg  cyl   disp   hp  drat     wt   qsec  vs  am  \\\n",
            "30        Maserati Bora  15.0    8  301.0  335  3.54  3.570  14.60   0   1   \n",
            "28       Ford Pantera L  15.8    8  351.0  264  4.22  3.170  14.50   0   1   \n",
            "6            Duster 360  14.3    8  360.0  245  3.21  3.570  15.84   0   0   \n",
            "23           Camaro Z28  13.3    8  350.0  245  3.73  3.840  15.41   0   0   \n",
            "16    Chrysler Imperial  14.7    8  440.0  230  3.23  5.345  17.42   0   0   \n",
            "15  Lincoln Continental  10.4    8  460.0  215  3.00  5.424  17.82   0   0   \n",
            "14   Cadillac Fleetwood  10.4    8  472.0  205  2.93  5.250  17.98   0   0   \n",
            "\n",
            "    gear  carb  \n",
            "30     5     8  \n",
            "28     5     4  \n",
            "6      3     4  \n",
            "23     3     4  \n",
            "16     3     4  \n",
            "15     3     4  \n",
            "14     3     4  \n"
          ]
        }
      ]
    },
    {
      "cell_type": "markdown",
      "source": [
        "### 문제20) car변수에 Merc 문구가 포함된 자동차의 mpg평균값을 반올림하여 정수로 출력하시오."
      ],
      "metadata": {
        "id": "1VY8C-R87ZOQ"
      }
    },
    {
      "cell_type": "code",
      "source": [
        "df = pd.read_csv(\"/content/mtcars.csv\")"
      ],
      "metadata": {
        "id": "5uG4oP8x7ixs"
      },
      "execution_count": null,
      "outputs": []
    },
    {
      "cell_type": "markdown",
      "source": [
        "### 문제21) 22년 1분기 매출액을 구하시오 <br/> 매출액 = 판매수 * 개당수익"
      ],
      "metadata": {
        "id": "RC_uaCUt7jFZ"
      }
    },
    {
      "cell_type": "code",
      "source": [
        "df = pd.DataFrame( {\n",
        "    '날짜': ['20220103','20220105', '20230105','20230127','20220203', '20220205','20230210','20230223','20230312','20230422','20220505','20230511'],\n",
        "    '제품' : ['A','B', 'A', 'B', 'A', 'B','A', 'B', 'A', 'B', 'A', 'A'],\n",
        "    '판매수': [3, 5, 5, 10, 10, 10, 15, 15, 20, 25, 30, 40],\n",
        "    '개당수익': [300, 400, 500, 600, 400, 500, 500, 600, 600, 700, 600, 600] })"
      ],
      "metadata": {
        "id": "7kzzxVFI7oz8"
      },
      "execution_count": null,
      "outputs": []
    },
    {
      "cell_type": "markdown",
      "source": [
        "### 문제22) 22년과 23년의 총 매출액 차이를 절대값으로 구하시오."
      ],
      "metadata": {
        "id": "B3p4bBB27s3F"
      }
    },
    {
      "cell_type": "code",
      "source": [
        "df = pd.DataFrame( {\n",
        "    '날짜': ['20220103','20220105', '20230105','20230127','20220203', '20220205','20230210','20230223','20230312','20230422','20220505','20230511'],\n",
        "    '제품' : ['A','B', 'A', 'B', 'A', 'B','A', 'B', 'A', 'B', 'A', 'A'],\n",
        "    '판매수': [3, 5, 5, 10, 10, 10, 15, 15, 20, 25, 30, 40],\n",
        "    '개당수익': [300, 400, 500, 600, 400, 500, 500, 600, 600, 700, 600, 600] })"
      ],
      "metadata": {
        "id": "dPmexHAO7wrE"
      },
      "execution_count": null,
      "outputs": []
    },
    {
      "cell_type": "markdown",
      "source": [
        "### 문제23) 23년 총 매출액이 큰 제품의 23년 판매수를 구하시오."
      ],
      "metadata": {
        "id": "cMgP5QjM7yFZ"
      }
    },
    {
      "cell_type": "code",
      "source": [
        "df = pd.DataFrame( {\n",
        "    '날짜': ['20220103','20220105', '20230105','20230127','20220203', '20220205','20230210','20230223','20230312','20230422','20220505','20230511'],\n",
        "    '제품' : ['A','B', 'A', 'B', 'A', 'B','A', 'B', 'A', 'B', 'A', 'A'],\n",
        "    '판매수': [3, 5, 5, 10, 10, 10, 15, 15, 20, 25, 30, 40],\n",
        "    '개당수익': [300, 400, 500, 600, 400, 500, 500, 600, 600, 700, 600, 600] })"
      ],
      "metadata": {
        "id": "iXNmvsvG72n8"
      },
      "execution_count": null,
      "outputs": []
    },
    {
      "cell_type": "markdown",
      "source": [
        "### 문제24) 매출액이 4천원 초과, 1만원 미만인 데이터의 수를 출력하시오."
      ],
      "metadata": {
        "id": "ZwFPxB4574XU"
      }
    },
    {
      "cell_type": "code",
      "source": [
        "df = pd.DataFrame( {\n",
        "    '날짜': ['20220103','20220105', '20230105','20230127','20220203', '20220205','20230210','20230223','20230312','20230422','20220505','20230511'],\n",
        "    '제품' : ['A','B', 'A', 'B', 'A', 'B','A', 'B', 'A', 'B', 'A', 'A'],\n",
        "    '판매수': [3, 5, 5, 10, 10, 10, 15, 15, 20, 25, 30, 40],\n",
        "    '개당수익': [300, 400, 500, 600, 400, 500, 500, 600, 600, 700, 600, 600] })"
      ],
      "metadata": {
        "id": "rVhdL6fs75nl"
      },
      "execution_count": null,
      "outputs": []
    },
    {
      "cell_type": "markdown",
      "source": [
        "### 문제25) 23년 9월 24일 16:00~22:00 사이에 전체 제품의 판매수를 구하시오."
      ],
      "metadata": {
        "id": "KdtR_K1V8Abg"
      }
    },
    {
      "cell_type": "code",
      "source": [
        "# 시간 데이터 만들기(수정금지)\n",
        "df = pd.DataFrame( {\n",
        "    '물품' : ['A', 'B', 'A', 'B', 'A', 'B', 'A'],\n",
        "    '판매수': [5, 10, 15, 15, 20, 25, 40],\n",
        "    '개당수익': [500, 600, 500, 600, 600, 700, 600] })\n",
        "time = pd.date_range('2023-09-24 12:25:00','2023-09-25 14:45:30', periods= 7)\n",
        "df['time']=time\n",
        "df = df[ ['time','물품','판매수','개당수익']]"
      ],
      "metadata": {
        "id": "uAkuxwNA8Jn4"
      },
      "execution_count": null,
      "outputs": []
    },
    {
      "cell_type": "markdown",
      "source": [
        "### 문제26) 9월 25일 00:00~12:00 까지의 B물품의 매출액 총합을 구하시오."
      ],
      "metadata": {
        "id": "YGzKpoYF8Z97"
      }
    },
    {
      "cell_type": "code",
      "source": [
        "# 시간 데이터 만들기(수정금지)\n",
        "df = pd.DataFrame( {\n",
        "    '물품' : ['A', 'B', 'A', 'B', 'A', 'B', 'A'],\n",
        "    '판매수': [5, 10, 15, 15, 20, 25, 40],\n",
        "    '개당수익': [500, 600, 500, 600, 600, 700, 600] })\n",
        "time = pd.date_range('2023-09-24 12:25:00','2023-09-25 14:45:30', periods= 7)\n",
        "df['time']=time\n",
        "df = df[ ['time','물품','판매수','개당수익']]"
      ],
      "metadata": {
        "id": "wVJJeBTy8LKI"
      },
      "execution_count": null,
      "outputs": []
    },
    {
      "cell_type": "markdown",
      "source": [
        "### 문제27) 9월 24일 12:00~24:00 까지의 A물품의 매출액 총합을 구하시오."
      ],
      "metadata": {
        "id": "sucEShDc8fGz"
      }
    },
    {
      "cell_type": "code",
      "source": [
        "# 시간 데이터 만들기(수정금지)\n",
        "df = pd.DataFrame( {\n",
        "    '물품' : ['A', 'B', 'A', 'B', 'A', 'B', 'A'],\n",
        "    '판매수': [5, 10, 15, 15, 20, 25, 40],\n",
        "    '개당수익': [500, 600, 500, 600, 600, 700, 600] })\n",
        "time = pd.date_range('2023-09-24 12:25:00','2023-09-25 14:45:30', periods= 7)\n",
        "df['time']=time\n",
        "df = df[ ['time','물품','판매수','개당수익']]"
      ],
      "metadata": {
        "id": "ethedyJR8Wyi"
      },
      "execution_count": null,
      "outputs": []
    }
  ]
}